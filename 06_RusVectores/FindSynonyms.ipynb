{
 "cells": [
  {
   "cell_type": "code",
   "execution_count": 67,
   "metadata": {},
   "outputs": [],
   "source": [
    "import requests\n",
    "import pymorphy2"
   ]
  },
  {
   "cell_type": "code",
   "execution_count": 68,
   "metadata": {},
   "outputs": [],
   "source": [
    "morph = pymorphy2.MorphAnalyzer()"
   ]
  },
  {
   "cell_type": "code",
   "execution_count": 252,
   "metadata": {},
   "outputs": [],
   "source": [
    "s = \"В Москве в воскресенье днем начнется сильный снегопад его принесет циклон Сара сообщил РИА Новости ведущий сотрудник центра погоды Фобос Евгений Тишковец\""
   ]
  },
  {
   "cell_type": "code",
   "execution_count": 253,
   "metadata": {},
   "outputs": [
    {
     "data": {
      "text/plain": [
       "['В',\n",
       " 'Москве',\n",
       " 'в',\n",
       " 'воскресенье',\n",
       " 'днем',\n",
       " 'начнется',\n",
       " 'сильный',\n",
       " 'снегопад',\n",
       " 'его',\n",
       " 'принесет',\n",
       " 'циклон',\n",
       " 'Сара',\n",
       " 'сообщил',\n",
       " 'РИА',\n",
       " 'Новости',\n",
       " 'ведущий',\n",
       " 'сотрудник',\n",
       " 'центра',\n",
       " 'погоды',\n",
       " 'Фобос',\n",
       " 'Евгений',\n",
       " 'Тишковец']"
      ]
     },
     "execution_count": 253,
     "metadata": {},
     "output_type": "execute_result"
    }
   ],
   "source": [
    "s.split(' ')"
   ]
  },
  {
   "cell_type": "code",
   "execution_count": 254,
   "metadata": {},
   "outputs": [],
   "source": [
    "MODEL = 'ruscorpora_upos_cbow_300_20_2019'\n",
    "FORMAT = 'csv'\n",
    "\n",
    "def api_neighbor(m, w, f):\n",
    "    neighbors = []\n",
    "    url = '/'.join(['http://rusvectores.org', m, w, 'api', f]) + '/'\n",
    "    r = requests.get(url=url, stream=True)\n",
    "    \n",
    "    if len(r.text.split('\\n')) == 1:\n",
    "        return 'none'\n",
    "    \n",
    "    orig_word = r.text.split('\\n')[1]\n",
    "    pos = orig_word.split('_')[1]\n",
    "    \n",
    "    for line in r.text.split('\\n')[2:-1]:\n",
    "        word, sim = line.split('\\t')\n",
    "        if pos in word:\n",
    "            neighbors.append(word)\n",
    "    if 'VERB' == pos:\n",
    "        return neighbors[1]\n",
    "    return neighbors[0]"
   ]
  },
  {
   "cell_type": "code",
   "execution_count": 255,
   "metadata": {},
   "outputs": [
    {
     "name": "stdout",
     "output_type": "stream",
     "text": [
      "в в\n",
      "москве москве\n",
      "в в\n",
      "воскресенье воскресение\n",
      "днём неделей\n",
      "начнётся возобновлюсь\n",
      "сильный сильный\n",
      "снегопад метель\n",
      "его его\n",
      "принесёт принешу\n",
      "циклон антициклон\n",
      "сара сара\n",
      "сообщил извещали\n",
      "риа риа\n",
      "новости известия\n",
      "ведущий ведущий\n",
      "сотрудник руководитель\n",
      "центра центра\n",
      "погоды ненастья\n",
      "фобос фобос\n",
      "евгений евгений\n",
      "тишковец тишковец\n"
     ]
    }
   ],
   "source": [
    "for word in s.split(' '):\n",
    "    w = morph.parse(word)[0]\n",
    "    normal_form = w.normal_form\n",
    "    \n",
    "    modified_word = w.word\n",
    "    if w.tag.POS in ['INFN', 'VERB']:\n",
    "        sim = api_neighbor(MODEL, normal_form, FORMAT)\n",
    "        if sim != 'none':\n",
    "            modified_word = morph.parse(sim.split('_')[0])[0].inflect({w.tag.tense, w.tag.mood}).word\n",
    "    elif w.tag.POS == 'NOUN':\n",
    "        if 'Name' in w.tag or 'Geox' in w.tag or 'Orgn' in w.tag:\n",
    "            pass\n",
    "        else:\n",
    "            sim = api_neighbor(MODEL, normal_form, FORMAT)\n",
    "            if sim != 'none':\n",
    "                modified_word = morph.parse(sim.split('_')[0])[0].inflect({w.tag.case,w.tag.number}).word\n",
    "    print(w.word, modified_word)"
   ]
  },
  {
   "cell_type": "code",
   "execution_count": 242,
   "metadata": {},
   "outputs": [],
   "source": [
    "word = morph.parse('обвинить')[0]"
   ]
  },
  {
   "cell_type": "code",
   "execution_count": 243,
   "metadata": {},
   "outputs": [
    {
     "data": {
      "text/plain": [
       "Parse(word='обвинить', tag=OpencorporaTag('INFN,perf,tran'), normal_form='обвинить', score=1.0, methods_stack=((DictionaryAnalyzer(), 'обвинить', 754, 0),))"
      ]
     },
     "execution_count": 243,
     "metadata": {},
     "output_type": "execute_result"
    }
   ],
   "source": [
    "word\n",
    "#.animacy\n",
    "#.inflect({'gent'})"
   ]
  },
  {
   "cell_type": "code",
   "execution_count": 230,
   "metadata": {},
   "outputs": [
    {
     "data": {
      "text/plain": [
       "'past'"
      ]
     },
     "execution_count": 230,
     "metadata": {},
     "output_type": "execute_result"
    }
   ],
   "source": [
    "word.tag.tense"
   ]
  },
  {
   "cell_type": "code",
   "execution_count": 232,
   "metadata": {},
   "outputs": [
    {
     "data": {
      "text/plain": [
       "Parse(word='гадали', tag=OpencorporaTag('VERB,impf,intr plur,past,indc'), normal_form='гадать', score=1.0, methods_stack=((DictionaryAnalyzer(), 'гадали', 15, 10),))"
      ]
     },
     "execution_count": 232,
     "metadata": {},
     "output_type": "execute_result"
    }
   ],
   "source": [
    "morph.parse('гадать')[0].inflect({word.tag.tense, word.tag.mood})"
   ]
  },
  {
   "cell_type": "code",
   "execution_count": 181,
   "metadata": {},
   "outputs": [
    {
     "name": "stdout",
     "output_type": "stream",
     "text": [
      "['взорваться_VERB\\t0.6680192947387695', 'взрываться_VERB\\t0.6318215131759644', 'детонация_NOUN\\t0.6154584884643555', 'взрывной_ADJ\\t0.6049678921699524', 'бомба_NOUN\\t0.5874749422073364', 'катастрофа_NOUN\\t0.5802870392799377', 'взрывать_VERB\\t0.5706577301025391', 'землетрясение_NOUN\\t0.5647920966148376', 'взорвать_VERB\\t0.5582807064056396', 'воспламенений_NOUN\\t0.5536834597587585', '']\n"
     ]
    },
    {
     "data": {
      "text/plain": [
       "'детонация'"
      ]
     },
     "execution_count": 181,
     "metadata": {},
     "output_type": "execute_result"
    }
   ],
   "source": []
  },
  {
   "cell_type": "code",
   "execution_count": 13,
   "metadata": {},
   "outputs": [],
   "source": [
    "def api_similarity(m, w1, w2):\n",
    "    url = '/'.join(['https://rusvectores.org', m, w1 + '__' + w2, 'api', 'similarity/'])\n",
    "    r = requests.get(url, stream=True)\n",
    "    print(r.text)\n",
    "    return r.text.split('\\t')[0]"
   ]
  },
  {
   "cell_type": "code",
   "execution_count": 14,
   "metadata": {},
   "outputs": [
    {
     "name": "stdout",
     "output_type": "stream",
     "text": [
      "0.10096654295921326\tпечень_NOUN\tмех_NOUN\truscorpora_upos_cbow_300_20_2019\n",
      "0.10096654295921326\n"
     ]
    }
   ],
   "source": [
    "print(api_similarity(MODEL, WORD, 'мех_NOUN'))"
   ]
  },
  {
   "cell_type": "code",
   "execution_count": null,
   "metadata": {},
   "outputs": [],
   "source": []
  }
 ],
 "metadata": {
  "kernelspec": {
   "display_name": "Python 3",
   "language": "python",
   "name": "python3"
  },
  "language_info": {
   "codemirror_mode": {
    "name": "ipython",
    "version": 3
   },
   "file_extension": ".py",
   "mimetype": "text/x-python",
   "name": "python",
   "nbconvert_exporter": "python",
   "pygments_lexer": "ipython3",
   "version": "3.9.0"
  }
 },
 "nbformat": 4,
 "nbformat_minor": 4
}
