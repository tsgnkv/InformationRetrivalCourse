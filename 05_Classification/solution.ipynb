{
 "cells": [
  {
   "cell_type": "code",
   "execution_count": 54,
   "metadata": {},
   "outputs": [],
   "source": [
    "import xml.etree.ElementTree as ET\n",
    "import pandas as pd"
   ]
  },
  {
   "cell_type": "code",
   "execution_count": 58,
   "metadata": {},
   "outputs": [],
   "source": [
    "def read_xml(filename):\n",
    "    tree = ET.parse(filename)\n",
    "    root = tree.getroot()\n",
    "    temp = []\n",
    "    for child in root:\n",
    "        # child[0] - speech; child[1] - evaluation; child[2] - url\n",
    "        temp.append([child[0].text.strip(), child[1].text.strip(), child[2].text.strip()])\n",
    "    df = pd.DataFrame(temp)\n",
    "    df.columns = ['speech', 'evaluation', 'url']\n",
    "    df = df[df.evaluation.isin(['0', '+', '-'])]\n",
    "    df = df.reset_index().drop('index', axis=1)\n",
    "    return df"
   ]
  },
  {
   "cell_type": "code",
   "execution_count": 59,
   "metadata": {},
   "outputs": [],
   "source": [
    "train = read_xml('data/train/news_eval_train.xml')\n",
    "test = read_xml('data/test/news_eval_test.xml')"
   ]
  },
  {
   "cell_type": "code",
   "execution_count": 63,
   "metadata": {},
   "outputs": [],
   "source": [
    "train['part'] = 'train'\n",
    "test['part'] = 'test'"
   ]
  },
  {
   "cell_type": "code",
   "execution_count": 67,
   "metadata": {},
   "outputs": [],
   "source": [
    "combined = pd.concat([train, test]).reset_index().drop('index', axis=1)"
   ]
  },
  {
   "cell_type": "code",
   "execution_count": 72,
   "metadata": {},
   "outputs": [],
   "source": [
    "combined = pd.concat([combined, pd.get_dummies(combined.evaluation)], axis=1)"
   ]
  },
  {
   "cell_type": "code",
   "execution_count": 74,
   "metadata": {},
   "outputs": [],
   "source": [
    "combined.columns = ['speech', 'evaluation', 'url', 'part', 'positive', 'negative', 'neutral']"
   ]
  },
  {
   "cell_type": "code",
   "execution_count": 75,
   "metadata": {},
   "outputs": [
    {
     "data": {
      "text/html": [
       "<div>\n",
       "<style scoped>\n",
       "    .dataframe tbody tr th:only-of-type {\n",
       "        vertical-align: middle;\n",
       "    }\n",
       "\n",
       "    .dataframe tbody tr th {\n",
       "        vertical-align: top;\n",
       "    }\n",
       "\n",
       "    .dataframe thead th {\n",
       "        text-align: right;\n",
       "    }\n",
       "</style>\n",
       "<table border=\"1\" class=\"dataframe\">\n",
       "  <thead>\n",
       "    <tr style=\"text-align: right;\">\n",
       "      <th></th>\n",
       "      <th>speech</th>\n",
       "      <th>evaluation</th>\n",
       "      <th>url</th>\n",
       "      <th>part</th>\n",
       "      <th>positive</th>\n",
       "      <th>negative</th>\n",
       "      <th>neutral</th>\n",
       "    </tr>\n",
       "  </thead>\n",
       "  <tbody>\n",
       "    <tr>\n",
       "      <th>0</th>\n",
       "      <td>Далее в своей проповеди он напомнил, что по би...</td>\n",
       "      <td>0</td>\n",
       "      <td>http://www.blagovest-info.ru/index.php?ss=2&amp;am...</td>\n",
       "      <td>train</td>\n",
       "      <td>0</td>\n",
       "      <td>0</td>\n",
       "      <td>1</td>\n",
       "    </tr>\n",
       "    <tr>\n",
       "      <th>1</th>\n",
       "      <td>\"Меня отпустили. У Коли @nlyaskin забирают вещ...</td>\n",
       "      <td>-</td>\n",
       "      <td>http://asiareport.ru/index.php/news/14440-chir...</td>\n",
       "      <td>train</td>\n",
       "      <td>0</td>\n",
       "      <td>1</td>\n",
       "      <td>0</td>\n",
       "    </tr>\n",
       "    <tr>\n",
       "      <th>2</th>\n",
       "      <td>В интервью РИА \"Новости\" уполномоченный по пра...</td>\n",
       "      <td>0</td>\n",
       "      <td>http://www.rosbalt.ru/federal/2012/04/08/96718...</td>\n",
       "      <td>train</td>\n",
       "      <td>0</td>\n",
       "      <td>0</td>\n",
       "      <td>1</td>\n",
       "    </tr>\n",
       "    <tr>\n",
       "      <th>3</th>\n",
       "      <td>Бывший главный тренер сборной Англии Грэм Тэйл...</td>\n",
       "      <td>0</td>\n",
       "      <td>http://www.sports.ru/football/139754406.html</td>\n",
       "      <td>train</td>\n",
       "      <td>0</td>\n",
       "      <td>0</td>\n",
       "      <td>1</td>\n",
       "    </tr>\n",
       "    <tr>\n",
       "      <th>4</th>\n",
       "      <td>\"На телах жертв были обнаружены многочисленные...</td>\n",
       "      <td>-</td>\n",
       "      <td>http://moldinfo.ru/narod/2939-jitel-vengerskoy...</td>\n",
       "      <td>train</td>\n",
       "      <td>0</td>\n",
       "      <td>1</td>\n",
       "      <td>0</td>\n",
       "    </tr>\n",
       "  </tbody>\n",
       "</table>\n",
       "</div>"
      ],
      "text/plain": [
       "                                              speech evaluation  \\\n",
       "0  Далее в своей проповеди он напомнил, что по би...          0   \n",
       "1  \"Меня отпустили. У Коли @nlyaskin забирают вещ...          -   \n",
       "2  В интервью РИА \"Новости\" уполномоченный по пра...          0   \n",
       "3  Бывший главный тренер сборной Англии Грэм Тэйл...          0   \n",
       "4  \"На телах жертв были обнаружены многочисленные...          -   \n",
       "\n",
       "                                                 url   part  positive  \\\n",
       "0  http://www.blagovest-info.ru/index.php?ss=2&am...  train         0   \n",
       "1  http://asiareport.ru/index.php/news/14440-chir...  train         0   \n",
       "2  http://www.rosbalt.ru/federal/2012/04/08/96718...  train         0   \n",
       "3       http://www.sports.ru/football/139754406.html  train         0   \n",
       "4  http://moldinfo.ru/narod/2939-jitel-vengerskoy...  train         0   \n",
       "\n",
       "   negative  neutral  \n",
       "0         0        1  \n",
       "1         1        0  \n",
       "2         0        1  \n",
       "3         0        1  \n",
       "4         1        0  "
      ]
     },
     "execution_count": 75,
     "metadata": {},
     "output_type": "execute_result"
    }
   ],
   "source": [
    "combined.head()"
   ]
  },
  {
   "cell_type": "code",
   "execution_count": null,
   "metadata": {},
   "outputs": [],
   "source": []
  }
 ],
 "metadata": {
  "kernelspec": {
   "display_name": "Python 3",
   "language": "python",
   "name": "python3"
  },
  "language_info": {
   "codemirror_mode": {
    "name": "ipython",
    "version": 3
   },
   "file_extension": ".py",
   "mimetype": "text/x-python",
   "name": "python",
   "nbconvert_exporter": "python",
   "pygments_lexer": "ipython3",
   "version": "3.9.0"
  }
 },
 "nbformat": 4,
 "nbformat_minor": 4
}
