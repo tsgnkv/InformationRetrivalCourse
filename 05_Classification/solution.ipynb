{
 "cells": [
  {
   "cell_type": "code",
   "execution_count": 1,
   "metadata": {},
   "outputs": [
    {
     "name": "stderr",
     "output_type": "stream",
     "text": [
      "[nltk_data] Downloading package punkt to\n",
      "[nltk_data]     /Users/a.tsigankov/nltk_data...\n",
      "[nltk_data]   Package punkt is already up-to-date!\n",
      "[nltk_data] Downloading package stopwords to\n",
      "[nltk_data]     /Users/a.tsigankov/nltk_data...\n",
      "[nltk_data]   Package stopwords is already up-to-date!\n"
     ]
    },
    {
     "data": {
      "text/plain": [
       "True"
      ]
     },
     "execution_count": 1,
     "metadata": {},
     "output_type": "execute_result"
    }
   ],
   "source": [
    "import xml.etree.ElementTree as ET\n",
    "import pandas as pd\n",
    "from sklearn.feature_extraction.text import TfidfVectorizer\n",
    "from sklearn.preprocessing import MultiLabelBinarizer\n",
    "from sklearn.model_selection import train_test_split\n",
    "from sklearn.linear_model import LogisticRegression\n",
    "from sklearn.multiclass import OneVsRestClassifier\n",
    "from sklearn.metrics import f1_score, accuracy_score\n",
    "from pymystem3 import Mystem\n",
    "from nltk.corpus import stopwords\n",
    "import nltk\n",
    "nltk.download('punkt')\n",
    "nltk.download(\"stopwords\")"
   ]
  },
  {
   "cell_type": "code",
   "execution_count": 2,
   "metadata": {},
   "outputs": [],
   "source": [
    "tokenizer = nltk.RegexpTokenizer(r\"\\w+\")\n",
    "mystem = Mystem()\n",
    "russian_stopwords = stopwords.words(\"russian\")"
   ]
  },
  {
   "cell_type": "code",
   "execution_count": 3,
   "metadata": {},
   "outputs": [],
   "source": [
    "def read_xml(filename):\n",
    "    \"\"\"Чтение XML-файла и получение pandas.DataFrame\"\"\"\n",
    "    tree = ET.parse(filename)\n",
    "    root = tree.getroot()\n",
    "    temp = []\n",
    "    for child in root:\n",
    "        # child[0] - speech; child[1] - evaluation; child[2] - url\n",
    "        temp.append([child[0].text.strip(), child[1].text.strip(), child[2].text.strip()])\n",
    "    df = pd.DataFrame(temp)\n",
    "    df.columns = ['speech', 'evaluation', 'url']\n",
    "    df = df[df.evaluation.isin(['0', '+', '-'])]\n",
    "    df = df.reset_index().drop('index', axis=1)\n",
    "    return df"
   ]
  },
  {
   "cell_type": "code",
   "execution_count": 4,
   "metadata": {},
   "outputs": [],
   "source": [
    "def rename(value):\n",
    "    \"\"\"Переимненование колонки с оценками в читаемый формат\"\"\"\n",
    "    if value == '0':\n",
    "        return ['neutral']\n",
    "    if value == '+':\n",
    "        return ['positive']\n",
    "    if value == '-':\n",
    "        return ['negative']"
   ]
  },
  {
   "cell_type": "code",
   "execution_count": 5,
   "metadata": {},
   "outputs": [],
   "source": [
    "def lemmatize(sentence):\n",
    "    \"\"\"Лемматизирует предложение\"\"\"\n",
    "    return ''.join((mystem.lemmatize(' '.join(tokenizer.tokenize(sentence))))).replace('\\n', '')"
   ]
  },
  {
   "cell_type": "code",
   "execution_count": 6,
   "metadata": {},
   "outputs": [],
   "source": [
    "def remove_stop_words(sentence):\n",
    "    \"\"\"Удаляет стоп-слова\"\"\"\n",
    "    return ' '.join([word for word in sentence.split(' ') if word not in russian_stopwords])"
   ]
  },
  {
   "cell_type": "code",
   "execution_count": 7,
   "metadata": {},
   "outputs": [],
   "source": [
    "train = read_xml('data/train/news_eval_train.xml')\n",
    "test = read_xml('data/test/news_eval_test.xml')"
   ]
  },
  {
   "cell_type": "code",
   "execution_count": 8,
   "metadata": {},
   "outputs": [],
   "source": [
    "train['part'] = 'train'\n",
    "test['part'] = 'test'"
   ]
  },
  {
   "cell_type": "code",
   "execution_count": 9,
   "metadata": {},
   "outputs": [],
   "source": [
    "combined = pd.concat([train, test]).reset_index().drop('index', axis=1)\n",
    "combined = pd.concat([combined, pd.get_dummies(combined.evaluation)], axis=1)\n",
    "\n",
    "combined.columns = ['speech', 'evaluation', 'url', 'part', 'positive', 'negative', 'neutral']"
   ]
  },
  {
   "cell_type": "code",
   "execution_count": 10,
   "metadata": {},
   "outputs": [],
   "source": [
    "combined['evatuation_new'] = combined.evaluation.apply(rename)"
   ]
  },
  {
   "cell_type": "code",
   "execution_count": 11,
   "metadata": {},
   "outputs": [],
   "source": [
    "combined['lemmatized_speech'] = combined.speech.apply(lemmatize)\n",
    "combined['lemmatized_speech'] = combined.lemmatized_speech.apply(remove_stop_words)"
   ]
  },
  {
   "cell_type": "code",
   "execution_count": 12,
   "metadata": {},
   "outputs": [],
   "source": [
    "multilabel_binarizer = MultiLabelBinarizer()\n",
    "multilabel_binarizer.fit(combined['evatuation_new'])\n",
    "\n",
    "y = multilabel_binarizer.transform(combined['evatuation_new'])"
   ]
  },
  {
   "cell_type": "code",
   "execution_count": 13,
   "metadata": {},
   "outputs": [],
   "source": [
    "tfidf_vectorizer = TfidfVectorizer(max_df=0.8)"
   ]
  },
  {
   "cell_type": "code",
   "execution_count": 14,
   "metadata": {},
   "outputs": [],
   "source": [
    "train_data = combined[combined.part == 'train']"
   ]
  },
  {
   "cell_type": "code",
   "execution_count": 15,
   "metadata": {},
   "outputs": [],
   "source": [
    "# деление обучающей выборки на тренировочную и валидационную\n",
    "xtrain, xval, ytrain, yval = train_test_split(combined['lemmatized_speech'], y, test_size=0.2, random_state=9)"
   ]
  },
  {
   "cell_type": "code",
   "execution_count": 16,
   "metadata": {},
   "outputs": [],
   "source": [
    "tfidf_vectorizer = tfidf_vectorizer.fit(combined['lemmatized_speech'])"
   ]
  },
  {
   "cell_type": "code",
   "execution_count": 17,
   "metadata": {},
   "outputs": [],
   "source": [
    "xtrain_tfidf = tfidf_vectorizer.transform(xtrain)\n",
    "xval_tfidf = tfidf_vectorizer.transform(xval)"
   ]
  },
  {
   "cell_type": "code",
   "execution_count": 18,
   "metadata": {},
   "outputs": [],
   "source": [
    "# для обучения использую логистическую регрессию\n",
    "lr = LogisticRegression()\n",
    "clf = OneVsRestClassifier(lr)"
   ]
  },
  {
   "cell_type": "code",
   "execution_count": 19,
   "metadata": {},
   "outputs": [],
   "source": [
    "clf = clf.fit(xtrain_tfidf, ytrain)"
   ]
  },
  {
   "cell_type": "code",
   "execution_count": 20,
   "metadata": {},
   "outputs": [],
   "source": [
    "y_pred = clf.predict(xval_tfidf)"
   ]
  },
  {
   "cell_type": "code",
   "execution_count": 21,
   "metadata": {},
   "outputs": [],
   "source": [
    "y_pred_prob = clf.predict_proba(xval_tfidf)"
   ]
  },
  {
   "cell_type": "code",
   "execution_count": 22,
   "metadata": {
    "scrolled": false
   },
   "outputs": [],
   "source": [
    "# подбираю коэффициент отсечения для выбора метки класса на валидационном датасете\n",
    "results = []\n",
    "\n",
    "for t in range(250, 410):\n",
    "    y_pred_new = (y_pred_prob >= t / 1000.0).astype(int)\n",
    "    results.append((t / 1000.0, f1_score(yval, y_pred_new, average=\"micro\")))"
   ]
  },
  {
   "cell_type": "code",
   "execution_count": 23,
   "metadata": {},
   "outputs": [],
   "source": [
    "thresh = sorted(results, key=lambda x:x[1])[-1][0]"
   ]
  },
  {
   "cell_type": "code",
   "execution_count": 24,
   "metadata": {},
   "outputs": [
    {
     "name": "stdout",
     "output_type": "stream",
     "text": [
      "Полученный порог на валидационном датасете 0.349\n"
     ]
    }
   ],
   "source": [
    "print(f'Полученный порог на валидационном датасете {thresh}')"
   ]
  },
  {
   "cell_type": "code",
   "execution_count": 25,
   "metadata": {},
   "outputs": [],
   "source": [
    "test = combined[combined.part == 'test']"
   ]
  },
  {
   "cell_type": "code",
   "execution_count": 26,
   "metadata": {},
   "outputs": [],
   "source": [
    "test_idf = tfidf_vectorizer.transform(test['lemmatized_speech'])"
   ]
  },
  {
   "cell_type": "code",
   "execution_count": 27,
   "metadata": {},
   "outputs": [],
   "source": [
    "y_pred_prob = clf.predict_proba(test_idf)"
   ]
  },
  {
   "cell_type": "code",
   "execution_count": 28,
   "metadata": {},
   "outputs": [],
   "source": [
    "y_pred_new = (y_pred_prob >= thresh).astype(int)"
   ]
  },
  {
   "cell_type": "code",
   "execution_count": 29,
   "metadata": {},
   "outputs": [],
   "source": [
    "y_true = multilabel_binarizer.transform(test.evatuation_new)"
   ]
  },
  {
   "cell_type": "code",
   "execution_count": 30,
   "metadata": {},
   "outputs": [
    {
     "name": "stdout",
     "output_type": "stream",
     "text": [
      "F1-macro score на тесте: 0.790506478036896\n",
      "F1-micro score на тесте: 0.8005346493933785\n",
      "Precision score на тесте: 0.7122239230264596\n"
     ]
    }
   ],
   "source": [
    "print(f'F1-macro score на тесте: {f1_score(y_true, y_pred_new, average=\"macro\")}')\n",
    "print(f'F1-micro score на тесте: {f1_score(y_true, y_pred_new, average=\"micro\")}')\n",
    "print(f'Precision score на тесте: {accuracy_score(y_true, y_pred_new)}')"
   ]
  },
  {
   "cell_type": "code",
   "execution_count": 32,
   "metadata": {},
   "outputs": [],
   "source": [
    "vocabulary = tfidf_vectorizer.get_feature_names()"
   ]
  },
  {
   "cell_type": "markdown",
   "metadata": {},
   "source": [
    "ТОП-10 слов, который имеют большой вес для определения позитивной новости"
   ]
  },
  {
   "cell_type": "code",
   "execution_count": 33,
   "metadata": {},
   "outputs": [
    {
     "data": {
      "text/plain": [
       "[('хороший', 4.1414030934023165),\n",
       " ('позволять', 3.294954507574431),\n",
       " ('надеяться', 2.987278430994704),\n",
       " ('наш', 2.978806678010927),\n",
       " ('сотрудничество', 2.946343499979294),\n",
       " ('важный', 2.742419856354912),\n",
       " ('развитие', 2.6967884629904693),\n",
       " ('новый', 2.473366844508106),\n",
       " ('помогать', 2.4023673800228513),\n",
       " ('победа', 2.37215931713807)]"
      ]
     },
     "execution_count": 33,
     "metadata": {},
     "output_type": "execute_result"
    }
   ],
   "source": [
    "# positive\n",
    "sorted(list(zip(vocabulary, clf.coef_[2])), key=lambda x: x[1])[::-1][:10]"
   ]
  },
  {
   "cell_type": "markdown",
   "metadata": {},
   "source": [
    "ТОП-10 слов, который имеют большой вес для определения нейтральной новости"
   ]
  },
  {
   "cell_type": "code",
   "execution_count": 34,
   "metadata": {},
   "outputs": [
    {
     "data": {
      "text/plain": [
       "[('определять', 2.340543677928967),\n",
       " ('следующий', 2.2669487589299684),\n",
       " ('рассматривать', 2.258227003755718),\n",
       " ('эксперт', 1.6787471742562015),\n",
       " ('вопрос', 1.6742516330949),\n",
       " ('пока', 1.5984329994620132),\n",
       " ('бюджет', 1.5823660775005306),\n",
       " ('категория', 1.473455051638771),\n",
       " ('съезд', 1.4571675864517424),\n",
       " ('валюта', 1.4198077599738288)]"
      ]
     },
     "execution_count": 34,
     "metadata": {},
     "output_type": "execute_result"
    }
   ],
   "source": [
    "# neutral\n",
    "sorted(list(zip(vocabulary, clf.coef_[1])), key=lambda x: x[1])[::-1][:10]"
   ]
  },
  {
   "cell_type": "markdown",
   "metadata": {},
   "source": [
    "ТОП-10 слов, который имеют большой вес для определения негативной новости"
   ]
  },
  {
   "cell_type": "code",
   "execution_count": 35,
   "metadata": {},
   "outputs": [
    {
     "data": {
      "text/plain": [
       "[('сожаление', 2.6382776720956356),\n",
       " ('происходить', 2.619912652081225),\n",
       " ('нарушение', 2.424416076665523),\n",
       " ('преступление', 2.395404797173311),\n",
       " ('заявлять', 2.256965354539735),\n",
       " ('проблема', 2.20327008155676),\n",
       " ('причина', 2.1171192027401196),\n",
       " ('убийство', 1.9536922307752773),\n",
       " ('ситуация', 1.9509065147436642),\n",
       " ('против', 1.944501669884656)]"
      ]
     },
     "execution_count": 35,
     "metadata": {},
     "output_type": "execute_result"
    }
   ],
   "source": [
    "# negative\n",
    "sorted(list(zip(vocabulary, clf.coef_[0])), key=lambda x: x[1])[::-1][:10]"
   ]
  },
  {
   "cell_type": "code",
   "execution_count": null,
   "metadata": {},
   "outputs": [],
   "source": []
  }
 ],
 "metadata": {
  "kernelspec": {
   "display_name": "Python 3",
   "language": "python",
   "name": "python3"
  },
  "language_info": {
   "codemirror_mode": {
    "name": "ipython",
    "version": 3
   },
   "file_extension": ".py",
   "mimetype": "text/x-python",
   "name": "python",
   "nbconvert_exporter": "python",
   "pygments_lexer": "ipython3",
   "version": "3.9.0"
  }
 },
 "nbformat": 4,
 "nbformat_minor": 4
}
