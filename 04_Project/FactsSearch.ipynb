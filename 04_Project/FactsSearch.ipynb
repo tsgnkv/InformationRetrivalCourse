{
 "cells": [
  {
   "cell_type": "code",
   "execution_count": 1,
   "metadata": {},
   "outputs": [
    {
     "name": "stderr",
     "output_type": "stream",
     "text": [
      "[nltk_data] Downloading package punkt to\n",
      "[nltk_data]     /Users/a.tsigankov/nltk_data...\n",
      "[nltk_data]   Package punkt is already up-to-date!\n"
     ]
    },
    {
     "data": {
      "text/plain": [
       "True"
      ]
     },
     "execution_count": 1,
     "metadata": {},
     "output_type": "execute_result"
    }
   ],
   "source": [
    "import wikipedia\n",
    "import nltk\n",
    "import re\n",
    "from pymystem3 import Mystem\n",
    "from collections import Counter\n",
    "import numpy as np\n",
    "import pandas as pd\n",
    "from sklearn.feature_extraction.text import TfidfTransformer, TfidfVectorizer\n",
    "from sklearn.feature_extraction.text import CountVectorizer\n",
    "from sklearn.neighbors import NearestNeighbors\n",
    "nltk.download('punkt')"
   ]
  },
  {
   "cell_type": "code",
   "execution_count": 2,
   "metadata": {},
   "outputs": [],
   "source": [
    "# for pretty output\n",
    "from IPython.display import Markdown, display\n",
    "def printmd(string):\n",
    "    display(Markdown(string))"
   ]
  },
  {
   "cell_type": "code",
   "execution_count": 3,
   "metadata": {},
   "outputs": [],
   "source": [
    "pd.set_option('max_colwidth', 80)\n",
    "wikipedia.set_lang('ru')\n",
    "tokenizer = nltk.RegexpTokenizer(r\"\\w+\")\n",
    "mystem = Mystem()"
   ]
  },
  {
   "cell_type": "markdown",
   "metadata": {},
   "source": [
    "Факты"
   ]
  },
  {
   "cell_type": "code",
   "execution_count": 4,
   "metadata": {},
   "outputs": [],
   "source": [
    "facts = [\n",
    "    \"Нацистский врач-эсэсовец, работавший в шести концлагерях, был дважды оправдан и выпущен на свободу.\",\n",
    "    \"Историк утверждает, что, прежде чем допустить крестьян на личный прием к вождю мирового пролетариата, их тщательно дезинфицировали.\",\n",
    "    \"В России акции протеста проходят не только на площадях, но и на поездах.\"\n",
    "]"
   ]
  },
  {
   "cell_type": "markdown",
   "metadata": {},
   "source": [
    "Название статей Википедии, на которые ссылаются факты"
   ]
  },
  {
   "cell_type": "code",
   "execution_count": 5,
   "metadata": {},
   "outputs": [],
   "source": [
    "wikipedia_pages = {\n",
    "    1: [\"Шмидт, Генрих (врач)\"],\n",
    "    2: [\"Ходоки у В. И. Ленина\", \"Дезинфекция\"],\n",
    "    3: [\"Проезд снаружи поездов\"]\n",
    "}"
   ]
  },
  {
   "cell_type": "markdown",
   "metadata": {},
   "source": [
    "### Скачивание и обработка статей из Википедии"
   ]
  },
  {
   "cell_type": "code",
   "execution_count": 6,
   "metadata": {},
   "outputs": [],
   "source": [
    "def get_page_text(pagename):\n",
    "    page = wikipedia.page(pagename)\n",
    "    return page.content"
   ]
  },
  {
   "cell_type": "code",
   "execution_count": 7,
   "metadata": {},
   "outputs": [],
   "source": [
    "def remove_trash(page_text):\n",
    "    page_text = re.sub('\\s', ' ', page_text)\n",
    "    page_text = re.sub('[А-Я]\\.', '', page_text)\n",
    "    page_text = re.sub(r'\\=\\= Примечания[\\w\\s\\=]*', '', page_text)\n",
    "    page_text = page_text.replace('.', '. ')\n",
    "    page_text = page_text.replace('\\n', ' ')\n",
    "    headers = re.findall(r\"\\=\\=.*?\\=\\=\", page_text)\n",
    "    for header in headers:\n",
    "        page_text = page_text.replace(header, '')\n",
    "    \n",
    "    return page_text"
   ]
  },
  {
   "cell_type": "code",
   "execution_count": 8,
   "metadata": {},
   "outputs": [],
   "source": [
    "documents = []\n",
    "\n",
    "for num in wikipedia_pages.keys():\n",
    "    for page in wikipedia_pages[num]:\n",
    "        page_text = remove_trash(get_page_text(page))\n",
    "        sentences = nltk.sent_tokenize(page_text, language=\"russian\")\n",
    "        documents.extend(sentences)"
   ]
  },
  {
   "cell_type": "code",
   "execution_count": 9,
   "metadata": {},
   "outputs": [],
   "source": [
    "# добавление фактов\n",
    "documents.extend(facts)"
   ]
  },
  {
   "cell_type": "code",
   "execution_count": 10,
   "metadata": {},
   "outputs": [],
   "source": [
    "wiki = pd.DataFrame(documents)"
   ]
  },
  {
   "cell_type": "code",
   "execution_count": 11,
   "metadata": {},
   "outputs": [],
   "source": [
    "wiki.columns = ['document']"
   ]
  },
  {
   "cell_type": "code",
   "execution_count": 12,
   "metadata": {},
   "outputs": [
    {
     "data": {
      "text/html": [
       "<div>\n",
       "<style scoped>\n",
       "    .dataframe tbody tr th:only-of-type {\n",
       "        vertical-align: middle;\n",
       "    }\n",
       "\n",
       "    .dataframe tbody tr th {\n",
       "        vertical-align: top;\n",
       "    }\n",
       "\n",
       "    .dataframe thead th {\n",
       "        text-align: right;\n",
       "    }\n",
       "</style>\n",
       "<table border=\"1\" class=\"dataframe\">\n",
       "  <thead>\n",
       "    <tr style=\"text-align: right;\">\n",
       "      <th></th>\n",
       "      <th>document</th>\n",
       "    </tr>\n",
       "  </thead>\n",
       "  <tbody>\n",
       "    <tr>\n",
       "      <th>0</th>\n",
       "      <td>Эрнст Генрих Шмидт (нем.  Ernst Heinrich Schmidt; 27 марта 1912, Альтенбург,...</td>\n",
       "    </tr>\n",
       "    <tr>\n",
       "      <th>1</th>\n",
       "      <td>Генрих Шмидт родился 27 марта 1912 года в Альтенбурге.</td>\n",
       "    </tr>\n",
       "    <tr>\n",
       "      <th>2</th>\n",
       "      <td>В 1933 году был зачислен в СС (№ 23 069).</td>\n",
       "    </tr>\n",
       "    <tr>\n",
       "      <th>3</th>\n",
       "      <td>В 1937 году получил степень доктора медицинских наук в Лейпцигском университ...</td>\n",
       "    </tr>\n",
       "    <tr>\n",
       "      <th>4</th>\n",
       "      <td>После начала Второй мировой войны работал в лазарете Ваффен С  С 1941 года с...</td>\n",
       "    </tr>\n",
       "  </tbody>\n",
       "</table>\n",
       "</div>"
      ],
      "text/plain": [
       "                                                                          document\n",
       "0  Эрнст Генрих Шмидт (нем.  Ernst Heinrich Schmidt; 27 марта 1912, Альтенбург,...\n",
       "1                           Генрих Шмидт родился 27 марта 1912 года в Альтенбурге.\n",
       "2                                        В 1933 году был зачислен в СС (№ 23 069).\n",
       "3  В 1937 году получил степень доктора медицинских наук в Лейпцигском университ...\n",
       "4  После начала Второй мировой войны работал в лазарете Ваффен С  С 1941 года с..."
      ]
     },
     "execution_count": 12,
     "metadata": {},
     "output_type": "execute_result"
    }
   ],
   "source": [
    "wiki.head()"
   ]
  },
  {
   "cell_type": "markdown",
   "metadata": {},
   "source": [
    "### Лемматизация "
   ]
  },
  {
   "cell_type": "code",
   "execution_count": 13,
   "metadata": {},
   "outputs": [],
   "source": [
    "def lemmatize(sentence):\n",
    "    return ''.join((mystem.lemmatize(' '.join(tokenizer.tokenize(sentence))))).replace('\\n', '')"
   ]
  },
  {
   "cell_type": "code",
   "execution_count": 14,
   "metadata": {},
   "outputs": [],
   "source": [
    "wiki['lemmatized_document'] = wiki.document.apply(lemmatize)"
   ]
  },
  {
   "cell_type": "code",
   "execution_count": 15,
   "metadata": {},
   "outputs": [
    {
     "data": {
      "text/html": [
       "<div>\n",
       "<style scoped>\n",
       "    .dataframe tbody tr th:only-of-type {\n",
       "        vertical-align: middle;\n",
       "    }\n",
       "\n",
       "    .dataframe tbody tr th {\n",
       "        vertical-align: top;\n",
       "    }\n",
       "\n",
       "    .dataframe thead th {\n",
       "        text-align: right;\n",
       "    }\n",
       "</style>\n",
       "<table border=\"1\" class=\"dataframe\">\n",
       "  <thead>\n",
       "    <tr style=\"text-align: right;\">\n",
       "      <th></th>\n",
       "      <th>document</th>\n",
       "      <th>lemmatized_document</th>\n",
       "    </tr>\n",
       "  </thead>\n",
       "  <tbody>\n",
       "    <tr>\n",
       "      <th>561</th>\n",
       "      <td>Дата обращения 7 декабря 2012.</td>\n",
       "      <td>дата обращение 7 декабрь 2012</td>\n",
       "    </tr>\n",
       "    <tr>\n",
       "      <th>562</th>\n",
       "      <td>Архивировано 27 декабря 2012 года.</td>\n",
       "      <td>архивировать 27 декабрь 2012 год</td>\n",
       "    </tr>\n",
       "    <tr>\n",
       "      <th>563</th>\n",
       "      <td>Нацистский врач-эсэсовец, работавший в шести концлагерях, был дважды оправда...</td>\n",
       "      <td>нацистский врач эсэсовец работать в шесть концлагерь быть дважды оправдывать...</td>\n",
       "    </tr>\n",
       "    <tr>\n",
       "      <th>564</th>\n",
       "      <td>Историк утверждает, что, прежде чем допустить крестьян на личный прием к вож...</td>\n",
       "      <td>историк утверждать что прежде чем допускать крестьянин на личный прием к вож...</td>\n",
       "    </tr>\n",
       "    <tr>\n",
       "      <th>565</th>\n",
       "      <td>В России акции протеста проходят не только на площадях, но и на поездах.</td>\n",
       "      <td>в россия акция протест проходить не только на площадь но и на поезд</td>\n",
       "    </tr>\n",
       "  </tbody>\n",
       "</table>\n",
       "</div>"
      ],
      "text/plain": [
       "                                                                            document  \\\n",
       "561                                                   Дата обращения 7 декабря 2012.   \n",
       "562                                               Архивировано 27 декабря 2012 года.   \n",
       "563  Нацистский врач-эсэсовец, работавший в шести концлагерях, был дважды оправда...   \n",
       "564  Историк утверждает, что, прежде чем допустить крестьян на личный прием к вож...   \n",
       "565         В России акции протеста проходят не только на площадях, но и на поездах.   \n",
       "\n",
       "                                                                 lemmatized_document  \n",
       "561                                                    дата обращение 7 декабрь 2012  \n",
       "562                                                 архивировать 27 декабрь 2012 год  \n",
       "563  нацистский врач эсэсовец работать в шесть концлагерь быть дважды оправдывать...  \n",
       "564  историк утверждать что прежде чем допускать крестьянин на личный прием к вож...  \n",
       "565              в россия акция протест проходить не только на площадь но и на поезд  "
      ]
     },
     "execution_count": 15,
     "metadata": {},
     "output_type": "execute_result"
    }
   ],
   "source": [
    "wiki.tail()"
   ]
  },
  {
   "cell_type": "code",
   "execution_count": 16,
   "metadata": {},
   "outputs": [],
   "source": [
    "def tf_idf_vectorizer(corpus):\n",
    "    \n",
    "    tf = []\n",
    "    \n",
    "    vocabulary = np.unique([word for word in ' '.join(corpus).split(' ') if len(word) != 0])\n",
    "    \n",
    "    corpus_length = len(corpus)\n",
    "    vocabulary_length = len(vocabulary)\n",
    "    \n",
    "    def idf_computing(df):\n",
    "        return np.log10(corpus_length / df)\n",
    "\n",
    "    vectorized_idf = np.vectorize(idf_computing)\n",
    "    \n",
    "    inverse_vocabulary = {v: k for k, v in dict(enumerate(vocabulary)).items()}\n",
    "    \n",
    "    df = np.zeros(vocabulary_length, dtype=int)\n",
    "    \n",
    "    for document in corpus:\n",
    "        document_vector = np.zeros(vocabulary_length, dtype=int)\n",
    "        for word in document.split(' '):\n",
    "            if word != '':\n",
    "                document_vector[inverse_vocabulary[word]] += 1\n",
    "                \n",
    "        for word in np.unique(document.split(' ')):\n",
    "            if word != '':\n",
    "                df[inverse_vocabulary[word]] += 1\n",
    "        \n",
    "        tf.append(document_vector)\n",
    "        \n",
    "    idf = vectorized_idf(df)\n",
    "    \n",
    "    tf = [tf_elem * idf for tf_elem in tf]\n",
    "    \n",
    "    tf = np.stack(tf, axis=0 )\n",
    "    \n",
    "    return tf"
   ]
  },
  {
   "cell_type": "code",
   "execution_count": 17,
   "metadata": {},
   "outputs": [],
   "source": [
    "tfidf_weight = tf_idf_vectorizer(wiki['lemmatized_document'])"
   ]
  },
  {
   "cell_type": "code",
   "execution_count": 18,
   "metadata": {},
   "outputs": [
    {
     "data": {
      "text/plain": [
       "NearestNeighbors(algorithm='auto', leaf_size=30, metric='cosine',\n",
       "                 metric_params=None, n_jobs=None, n_neighbors=5, p=2,\n",
       "                 radius=1.0)"
      ]
     },
     "execution_count": 18,
     "metadata": {},
     "output_type": "execute_result"
    }
   ],
   "source": [
    "nn_cosine = NearestNeighbors(metric='cosine')\n",
    "nn_cosine.fit(tfidf_weight)"
   ]
  },
  {
   "cell_type": "code",
   "execution_count": 19,
   "metadata": {},
   "outputs": [],
   "source": [
    "facts_indexes = [563, 564, 565]"
   ]
  },
  {
   "cell_type": "code",
   "execution_count": 20,
   "metadata": {},
   "outputs": [],
   "source": [
    "def get_nearest_documents(index):\n",
    "    cosine, indices = nn_cosine.kneighbors(tfidf_weight[index].reshape(1, -1), n_neighbors = 11)\n",
    "\n",
    "    neighbors_cosine = pd.DataFrame({'cosine': cosine.flatten(), 'id': indices.flatten()})\n",
    "\n",
    "    nearest_documents = (wiki.\\\n",
    "                    merge(neighbors_cosine, right_on = 'id', left_index = True).\\\n",
    "                    sort_values('cosine')[['id', 'document', 'cosine']])\n",
    "\n",
    "    return nearest_documents\n",
    "\n",
    "def print_results_for_document(index):\n",
    "    nearest_documents = get_nearest_documents(index)\n",
    "    documents = nearest_documents['document'].values\n",
    "    cosines = nearest_documents['cosine'].values\n",
    "    \n",
    "    fact = documents[0]\n",
    "    \n",
    "    printmd(\"Факт: \" + \"**\" + fact + \"**\")\n",
    "    printmd(\"Близкие документы:\")\n",
    "    \n",
    "    for doc, cosine in zip(documents[1:], cosines[1:]):\n",
    "        printmd(f\"* [{cosine:.2f}] {doc}\")"
   ]
  },
  {
   "cell_type": "code",
   "execution_count": 21,
   "metadata": {},
   "outputs": [
    {
     "data": {
      "text/markdown": [
       "Факт: **Нацистский врач-эсэсовец, работавший в шести концлагерях, был дважды оправдан и выпущен на свободу.**"
      ],
      "text/plain": [
       "<IPython.core.display.Markdown object>"
      ]
     },
     "metadata": {},
     "output_type": "display_data"
    },
    {
     "data": {
      "text/markdown": [
       "Близкие документы:"
      ],
      "text/plain": [
       "<IPython.core.display.Markdown object>"
      ]
     },
     "metadata": {},
     "output_type": "display_data"
    },
    {
     "data": {
      "text/markdown": [
       "* [0.78] В итоге он был оправдан."
      ],
      "text/plain": [
       "<IPython.core.display.Markdown object>"
      ]
     },
     "metadata": {},
     "output_type": "display_data"
    },
    {
     "data": {
      "text/markdown": [
       "* [0.79] После начала Второй мировой войны работал в лазарете Ваффен С  С 1941 года служил врачом в концлагере Бухенвальд, в июне 1942 года был переведён в концлагерь Майданек."
      ],
      "text/plain": [
       "<IPython.core.display.Markdown object>"
      ]
     },
     "metadata": {},
     "output_type": "display_data"
    },
    {
     "data": {
      "text/markdown": [
       "* [0.84] В октябре 1943 года стал главным врачом в концлагере Гросс-Розен, а с сентября 1944 года служил в концлагере Дахау."
      ],
      "text/plain": [
       "<IPython.core.display.Markdown object>"
      ]
     },
     "metadata": {},
     "output_type": "display_data"
    },
    {
     "data": {
      "text/markdown": [
       "* [0.90] С некоторых пор и в России они получили распространение и стали атрибутом не только кабинета врача или аптечки автомобилиста или врача скорой помощи, но и обычной домашней аптечки."
      ],
      "text/plain": [
       "<IPython.core.display.Markdown object>"
      ]
     },
     "metadata": {},
     "output_type": "display_data"
    },
    {
     "data": {
      "text/markdown": [
       "* [0.91] Предметы, жесты и позы персонажей работают на главную идею произведения."
      ],
      "text/plain": [
       "<IPython.core.display.Markdown object>"
      ]
     },
     "metadata": {},
     "output_type": "display_data"
    },
    {
     "data": {
      "text/markdown": [
       "* [0.91] В 1950 году на Ленинградском фарфоровом заводе была выпущена декоративная ваза с росписью художника Валентина Сарлунда, в основе которой лежала картина Владимира Серова."
      ],
      "text/plain": [
       "<IPython.core.display.Markdown object>"
      ]
     },
     "metadata": {},
     "output_type": "display_data"
    },
    {
     "data": {
      "text/markdown": [
       "* [0.91] 1 УК РФ предусматривается значительное наказание — штраф от 150 до 300 тысяч рублей или лишение свободы сроком до 2 лет."
      ],
      "text/plain": [
       "<IPython.core.display.Markdown object>"
      ]
     },
     "metadata": {},
     "output_type": "display_data"
    },
    {
     "data": {
      "text/markdown": [
       "* [0.92] Эрнст Генрих Шмидт (нем.  Ernst Heinrich Schmidt; 27 марта 1912, Альтенбург, Германская империя — 28 ноября 2000, Целле, Германия) — немецкий врач, гауптштурмфюрер СС, служивший в различных концлагерях."
      ],
      "text/plain": [
       "<IPython.core.display.Markdown object>"
      ]
     },
     "metadata": {},
     "output_type": "display_data"
    },
    {
     "data": {
      "text/markdown": [
       "* [0.92] Из-за отсутствия доказательств 20 марта 1979 года Шмидт вновь был оправдан, а 19 апреля 1979 года освобождён."
      ],
      "text/plain": [
       "<IPython.core.display.Markdown object>"
      ]
     },
     "metadata": {},
     "output_type": "display_data"
    },
    {
     "data": {
      "text/markdown": [
       "* [0.93] Мария Скрипник, работавшая в Совнаркоме по приёму делегаций к Ленину, вспоминала, что временем неудержимого паломничества к Ленину были первые числа ноября 1917 года."
      ],
      "text/plain": [
       "<IPython.core.display.Markdown object>"
      ]
     },
     "metadata": {},
     "output_type": "display_data"
    }
   ],
   "source": [
    "print_results_for_document(facts_indexes[0])"
   ]
  },
  {
   "cell_type": "code",
   "execution_count": 22,
   "metadata": {},
   "outputs": [
    {
     "data": {
      "text/markdown": [
       "Факт: **Историк утверждает, что, прежде чем допустить крестьян на личный прием к вождю мирового пролетариата, их тщательно дезинфицировали.**"
      ],
      "text/plain": [
       "<IPython.core.display.Markdown object>"
      ]
     },
     "metadata": {},
     "output_type": "display_data"
    },
    {
     "data": {
      "text/markdown": [
       "Близкие документы:"
      ],
      "text/plain": [
       "<IPython.core.display.Markdown object>"
      ]
     },
     "metadata": {},
     "output_type": "display_data"
    },
    {
     "data": {
      "text/markdown": [
       "* [0.89] Сам Серов утверждал, что этот персонаж самовольно оставил окопы мировой войны, фронт стал для него настоящей революционной школой, к Ленину он пришёл, будучи избран для этой миссии своими земляками."
      ],
      "text/plain": [
       "<IPython.core.display.Markdown object>"
      ]
     },
     "metadata": {},
     "output_type": "display_data"
    },
    {
     "data": {
      "text/markdown": [
       "* [0.89] Советский, а после эмиграции — британский историк искусства Игорь Голомшток утверждал, что «обязательной принадлежностью колхозных клубов и сельсоветов было изображение типа „Ходоки у Ленина“  Серова»."
      ],
      "text/plain": [
       "<IPython.core.display.Markdown object>"
      ]
     },
     "metadata": {},
     "output_type": "display_data"
    },
    {
     "data": {
      "text/markdown": [
       "* [0.89] В своей версии сцены приёма ходоков Базелиц полностью удаляет фигуру Ленина, сосредочившись на тяжёлом положении крестьян."
      ],
      "text/plain": [
       "<IPython.core.display.Markdown object>"
      ]
     },
     "metadata": {},
     "output_type": "display_data"
    },
    {
     "data": {
      "text/markdown": [
       "* [0.90] Мария Скрипник, работавшая в Совнаркоме по приёму делегаций к Ленину, вспоминала, что временем неудержимого паломничества к Ленину были первые числа ноября 1917 года."
      ],
      "text/plain": [
       "<IPython.core.display.Markdown object>"
      ]
     },
     "metadata": {},
     "output_type": "display_data"
    },
    {
     "data": {
      "text/markdown": [
       "* [0.90] Она утверждала, что «Ильич был особенно обходителен с крестьянами-ходоками» и «как-то особенно гостеприимно с ними здоровался при встрече»."
      ],
      "text/plain": [
       "<IPython.core.display.Markdown object>"
      ]
     },
     "metadata": {},
     "output_type": "display_data"
    },
    {
     "data": {
      "text/markdown": [
       "* [0.90] Крестьянин, затаив дыхание, «с надеждой и любовью безотрывно смотрит на вождя»."
      ],
      "text/plain": [
       "<IPython.core.display.Markdown object>"
      ]
     },
     "metadata": {},
     "output_type": "display_data"
    },
    {
     "data": {
      "text/markdown": [
       "* [0.90] Владимир Серов утверждал, что ленинская тема «захватила его всего»."
      ],
      "text/plain": [
       "<IPython.core.display.Markdown object>"
      ]
     },
     "metadata": {},
     "output_type": "display_data"
    },
    {
     "data": {
      "text/markdown": [
       "* [0.91] В этой обстановке в деревне возникали сложные проблемы, вызывавшие потребность личного общения крестьян с председателем рабоче-крестьянского правительства."
      ],
      "text/plain": [
       "<IPython.core.display.Markdown object>"
      ]
     },
     "metadata": {},
     "output_type": "display_data"
    },
    {
     "data": {
      "text/markdown": [
       "* [0.92] После того, как   Калинин был избран председателем ВЦИКа, Владимир Ильич передал ему личное общение с крестьянами, так как «Михаил Иванович лучше других знает деревню и поэтому он спокоен за то, что каждое ходатайство крестьян будет рассмотрено подробно и хорошо»."
      ],
      "text/plain": [
       "<IPython.core.display.Markdown object>"
      ]
     },
     "metadata": {},
     "output_type": "display_data"
    },
    {
     "data": {
      "text/markdown": [
       "* [0.93] Второе направление — обобщённо-монументальный подход, представлявший Ленина революционером, трибуном и вождём."
      ],
      "text/plain": [
       "<IPython.core.display.Markdown object>"
      ]
     },
     "metadata": {},
     "output_type": "display_data"
    }
   ],
   "source": [
    "print_results_for_document(facts_indexes[1])"
   ]
  },
  {
   "cell_type": "code",
   "execution_count": 23,
   "metadata": {},
   "outputs": [
    {
     "data": {
      "text/markdown": [
       "Факт: **В России акции протеста проходят не только на площадях, но и на поездах.**"
      ],
      "text/plain": [
       "<IPython.core.display.Markdown object>"
      ]
     },
     "metadata": {},
     "output_type": "display_data"
    },
    {
     "data": {
      "text/markdown": [
       "Близкие документы:"
      ],
      "text/plain": [
       "<IPython.core.display.Markdown object>"
      ]
     },
     "metadata": {},
     "output_type": "display_data"
    },
    {
     "data": {
      "text/markdown": [
       "* [0.84] Одна такая акция имела место 30 июля 2010 года на Горьковском направлении МЖД в день запуска скоростного поезда «Сапсан» сообщением Москва — Нижний Новгород, одной из заявленных целей которой, помимо приветствия «Сапсана», являлся протест против отмены пригородных электричек, обусловленной ремонтом путей в преддверии запуска скоростного поезда)."
      ],
      "text/plain": [
       "<IPython.core.display.Markdown object>"
      ]
     },
     "metadata": {},
     "output_type": "display_data"
    },
    {
     "data": {
      "text/markdown": [
       "* [0.85] На многих миниатюрных железных дорогах, которые могут использоваться для катания людей, езда снаружи (верхом) является не только разрешённым, но и единственно возможным способом проезда."
      ],
      "text/plain": [
       "<IPython.core.display.Markdown object>"
      ]
     },
     "metadata": {},
     "output_type": "display_data"
    },
    {
     "data": {
      "text/markdown": [
       "* [0.85] Глядя на них, художник думал о дорогах, по которым они прошли."
      ],
      "text/plain": [
       "<IPython.core.display.Markdown object>"
      ]
     },
     "metadata": {},
     "output_type": "display_data"
    },
    {
     "data": {
      "text/markdown": [
       "* [0.87] С некоторых пор и в России они получили распространение и стали атрибутом не только кабинета врача или аптечки автомобилиста или врача скорой помощи, но и обычной домашней аптечки."
      ],
      "text/plain": [
       "<IPython.core.display.Markdown object>"
      ]
     },
     "metadata": {},
     "output_type": "display_data"
    },
    {
     "data": {
      "text/markdown": [
       "* [0.88] В России, согласно современным правилам технической эксплуатации, составители или кондуктора поездов имеют право проезжать снаружи вагонов только при следовании поездов с небольшой скоростью при выполнении маневровой работы на приспособленных для проезда переходных площадках или подножках с поручнями, находящихся в исправном состоянии (проезд на грузовых платформах в стоячем положении, рамах, крышах или сцепных устройствах вагонов составителям запрещается), а слезать и залезать на поезд разрешается только при его полной остановке."
      ],
      "text/plain": [
       "<IPython.core.display.Markdown object>"
      ]
     },
     "metadata": {},
     "output_type": "display_data"
    },
    {
     "data": {
      "text/markdown": [
       "* [0.88] По мнению практикующих трейнсёрферов, проезд снаружи вагона может быть безопасным, но только при стечении ряда внешних обстоятельств и выполнении зацепером определённых правил предосторожности."
      ],
      "text/plain": [
       "<IPython.core.display.Markdown object>"
      ]
     },
     "metadata": {},
     "output_type": "display_data"
    },
    {
     "data": {
      "text/markdown": [
       "* [0.91] В странах Западной и Центральной Европы езда на грузовых поездах с их внешней стороны также имеет некоторое распространение, но в меньшей степени."
      ],
      "text/plain": [
       "<IPython.core.display.Markdown object>"
      ]
     },
     "metadata": {},
     "output_type": "display_data"
    },
    {
     "data": {
      "text/markdown": [
       "* [0.91] Дезинфекция полностью может их и не уничтожить, но уменьшает количество микроорганизмов до приемлемого уровня."
      ],
      "text/plain": [
       "<IPython.core.display.Markdown object>"
      ]
     },
     "metadata": {},
     "output_type": "display_data"
    },
    {
     "data": {
      "text/markdown": [
       "* [0.91] В композиции нельзя ничего переместить, так как это не только нарушило бы заполненность холста в чисто формальном плане (это всегда принимает во внимание любой художник), но и нарушило бы единство содержания картины, которое художник раскрыл в деталях её композиционного строя."
      ],
      "text/plain": [
       "<IPython.core.display.Markdown object>"
      ]
     },
     "metadata": {},
     "output_type": "display_data"
    },
    {
     "data": {
      "text/markdown": [
       "* [0.91] Только после этого он подбирал типажи и делал эскизы."
      ],
      "text/plain": [
       "<IPython.core.display.Markdown object>"
      ]
     },
     "metadata": {},
     "output_type": "display_data"
    }
   ],
   "source": [
    "print_results_for_document(facts_indexes[2])"
   ]
  },
  {
   "cell_type": "code",
   "execution_count": null,
   "metadata": {},
   "outputs": [],
   "source": []
  }
 ],
 "metadata": {
  "kernelspec": {
   "display_name": "Python 3",
   "language": "python",
   "name": "python3"
  },
  "language_info": {
   "codemirror_mode": {
    "name": "ipython",
    "version": 3
   },
   "file_extension": ".py",
   "mimetype": "text/x-python",
   "name": "python",
   "nbconvert_exporter": "python",
   "pygments_lexer": "ipython3",
   "version": "3.7.6"
  }
 },
 "nbformat": 4,
 "nbformat_minor": 4
}
