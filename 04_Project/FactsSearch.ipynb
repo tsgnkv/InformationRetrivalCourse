{
 "cells": [
  {
   "cell_type": "code",
   "execution_count": 1,
   "metadata": {},
   "outputs": [
    {
     "name": "stderr",
     "output_type": "stream",
     "text": [
      "[nltk_data] Downloading package punkt to\n",
      "[nltk_data]     /Users/a.tsigankov/nltk_data...\n",
      "[nltk_data]   Package punkt is already up-to-date!\n"
     ]
    },
    {
     "data": {
      "text/plain": [
       "True"
      ]
     },
     "execution_count": 1,
     "metadata": {},
     "output_type": "execute_result"
    }
   ],
   "source": [
    "import wikipedia\n",
    "import nltk\n",
    "import re\n",
    "from pymystem3 import Mystem\n",
    "from collections import Counter\n",
    "import numpy as np\n",
    "import pandas as pd\n",
    "from sklearn.feature_extraction.text import TfidfTransformer, TfidfVectorizer\n",
    "from sklearn.feature_extraction.text import CountVectorizer\n",
    "from sklearn.neighbors import NearestNeighbors\n",
    "nltk.download('punkt')"
   ]
  },
  {
   "cell_type": "code",
   "execution_count": 2,
   "metadata": {},
   "outputs": [],
   "source": [
    "# for pretty output\n",
    "from IPython.display import Markdown, display\n",
    "def printmd(string):\n",
    "    display(Markdown(string))"
   ]
  },
  {
   "cell_type": "code",
   "execution_count": 3,
   "metadata": {},
   "outputs": [],
   "source": [
    "pd.set_option('max_colwidth', 80)\n",
    "wikipedia.set_lang('ru')\n",
    "tokenizer = nltk.RegexpTokenizer(r\"\\w+\")\n",
    "mystem = Mystem()"
   ]
  },
  {
   "cell_type": "markdown",
   "metadata": {},
   "source": [
    "Факты"
   ]
  },
  {
   "cell_type": "code",
   "execution_count": 4,
   "metadata": {},
   "outputs": [],
   "source": [
    "facts = [\n",
    "    \"Нацистский врач-эсэсовец, работавший в шести концлагерях, был дважды оправдан и выпущен на свободу.\",\n",
    "    \"Историк утверждает, что, прежде чем допустить крестьян на личный прием к вождю мирового пролетариата, их тщательно дезинфицировали.\",\n",
    "    \"В России акции протеста проходят не только на площадях, но и на поездах.\"\n",
    "]"
   ]
  },
  {
   "cell_type": "markdown",
   "metadata": {},
   "source": [
    "Название статей Википедии, на которые ссылаются факты"
   ]
  },
  {
   "cell_type": "code",
   "execution_count": 5,
   "metadata": {},
   "outputs": [],
   "source": [
    "wikipedia_pages = {\n",
    "    1: [\"Шмидт, Генрих (врач)\"],\n",
    "    2: [\"Ходоки у В. И. Ленина\", \"Дезинфекция\"],\n",
    "    3: [\"Проезд снаружи поездов\"]\n",
    "}"
   ]
  },
  {
   "cell_type": "markdown",
   "metadata": {},
   "source": [
    "### Скачивание и обработка статей из Википедии"
   ]
  },
  {
   "cell_type": "code",
   "execution_count": 6,
   "metadata": {},
   "outputs": [],
   "source": [
    "def get_page_text(pagename):\n",
    "    page = wikipedia.page(pagename)\n",
    "    return page.content"
   ]
  },
  {
   "cell_type": "code",
   "execution_count": 7,
   "metadata": {},
   "outputs": [],
   "source": [
    "def remove_trash(page_text):\n",
    "    page_text = re.sub('\\s', ' ', page_text)\n",
    "    page_text = re.sub('[А-Я]\\.', '', page_text)\n",
    "    page_text = re.sub(r'\\=\\= Примечания[\\w\\s\\=]*', '', page_text)\n",
    "    page_text = page_text.replace('.', '. ')\n",
    "    page_text = page_text.replace('\\n', ' ')\n",
    "    headers = re.findall(r\"\\=\\=.*?\\=\\=\", page_text)\n",
    "    for header in headers:\n",
    "        page_text = page_text.replace(header, '')\n",
    "    \n",
    "    return page_text"
   ]
  },
  {
   "cell_type": "code",
   "execution_count": null,
   "metadata": {},
   "outputs": [],
   "source": [
    "documents = []\n",
    "\n",
    "for num in wikipedia_pages.keys():\n",
    "    for page in wikipedia_pages[num]:\n",
    "        page_text = remove_trash(get_page_text(page))\n",
    "        sentences = nltk.sent_tokenize(page_text, language=\"russian\")\n",
    "        documents.extend(sentences)"
   ]
  },
  {
   "cell_type": "code",
   "execution_count": null,
   "metadata": {},
   "outputs": [],
   "source": [
    "# добавление фактов\n",
    "documents.extend(facts)"
   ]
  },
  {
   "cell_type": "code",
   "execution_count": null,
   "metadata": {},
   "outputs": [],
   "source": [
    "wiki = pd.DataFrame(documents)"
   ]
  },
  {
   "cell_type": "code",
   "execution_count": null,
   "metadata": {},
   "outputs": [],
   "source": [
    "wiki.columns = ['document']"
   ]
  },
  {
   "cell_type": "code",
   "execution_count": null,
   "metadata": {},
   "outputs": [],
   "source": [
    "wiki.head()"
   ]
  },
  {
   "cell_type": "markdown",
   "metadata": {},
   "source": [
    "### Лемматизация "
   ]
  },
  {
   "cell_type": "code",
   "execution_count": null,
   "metadata": {},
   "outputs": [],
   "source": [
    "def lemmatize(sentence):\n",
    "    return ''.join((mystem.lemmatize(' '.join(tokenizer.tokenize(sentence))))).replace('\\n', '')"
   ]
  },
  {
   "cell_type": "code",
   "execution_count": null,
   "metadata": {},
   "outputs": [],
   "source": [
    "wiki['lemmatized_document'] = wiki.document.apply(lemmatize)"
   ]
  },
  {
   "cell_type": "code",
   "execution_count": null,
   "metadata": {},
   "outputs": [],
   "source": [
    "wiki.tail()"
   ]
  },
  {
   "cell_type": "code",
   "execution_count": null,
   "metadata": {},
   "outputs": [],
   "source": [
    "tfidf_vect = TfidfVectorizer()\n",
    "tfidf_weight = tfidf_vect.fit_transform(wiki['lemmatized_document'])"
   ]
  },
  {
   "cell_type": "code",
   "execution_count": null,
   "metadata": {},
   "outputs": [],
   "source": [
    "nn_cosine = NearestNeighbors(metric='cosine')\n",
    "nn_cosine.fit(tfidf_weight)"
   ]
  },
  {
   "cell_type": "code",
   "execution_count": null,
   "metadata": {},
   "outputs": [],
   "source": [
    "facts_indexes = [563, 564, 565]"
   ]
  },
  {
   "cell_type": "code",
   "execution_count": null,
   "metadata": {},
   "outputs": [],
   "source": [
    "def get_nearest_documents(index):\n",
    "    cosine, indices = nn_cosine.kneighbors(tfidf_weight[index], n_neighbors = 11)\n",
    "\n",
    "    neighbors_cosine = pd.DataFrame({'cosine': cosine.flatten(), 'id': indices.flatten()})\n",
    "\n",
    "    nearest_documents = (wiki.\\\n",
    "                    merge(neighbors_cosine, right_on = 'id', left_index = True).\\\n",
    "                    sort_values('cosine')[['id', 'document', 'cosine']])\n",
    "\n",
    "    return nearest_documents\n",
    "\n",
    "def print_results_for_document(index):\n",
    "    nearest_documents = get_nearest_documents(index)\n",
    "    documents = nearest_documents['document'].values\n",
    "    cosines = nearest_documents['cosine'].values\n",
    "    \n",
    "    fact = documents[0]\n",
    "    \n",
    "    printmd(\"Факт: \" + \"**\" + fact + \"**\")\n",
    "    printmd(\"Близкие документы:\")\n",
    "    \n",
    "    for doc, cosine in zip(documents[1:], cosines[1:]):\n",
    "        printmd(f\"* [{cosine:.2f}] {doc}\")"
   ]
  },
  {
   "cell_type": "code",
   "execution_count": null,
   "metadata": {},
   "outputs": [],
   "source": [
    "print_results_for_document(facts_indexes[0])"
   ]
  },
  {
   "cell_type": "code",
   "execution_count": null,
   "metadata": {},
   "outputs": [],
   "source": [
    "print_results_for_document(facts_indexes[1])"
   ]
  },
  {
   "cell_type": "code",
   "execution_count": null,
   "metadata": {},
   "outputs": [],
   "source": [
    "print_results_for_document(facts_indexes[2])"
   ]
  }
 ],
 "metadata": {
  "kernelspec": {
   "display_name": "Python 3",
   "language": "python",
   "name": "python3"
  },
  "language_info": {
   "codemirror_mode": {
    "name": "ipython",
    "version": 3
   },
   "file_extension": ".py",
   "mimetype": "text/x-python",
   "name": "python",
   "nbconvert_exporter": "python",
   "pygments_lexer": "ipython3",
   "version": "3.7.6"
  }
 },
 "nbformat": 4,
 "nbformat_minor": 4
}
