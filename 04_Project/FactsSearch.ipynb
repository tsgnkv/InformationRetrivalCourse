{
 "cells": [
  {
   "cell_type": "markdown",
   "metadata": {},
   "source": [
    "**Оглавление:**\n",
    "* [Реализация векторизатора](#tf-idf-model)\n",
    "* [Реализация языковой модели](#Language-model)\n",
    "* [Выдача векторной модели](#Выдача-векторной-модели)\n",
    "* [Выдача языковой модели](#Выдача-языковой-модели)"
   ]
  },
  {
   "cell_type": "code",
   "execution_count": 1,
   "metadata": {},
   "outputs": [
    {
     "name": "stderr",
     "output_type": "stream",
     "text": [
      "[nltk_data] Downloading package punkt to\n",
      "[nltk_data]     /Users/a.tsigankov/nltk_data...\n",
      "[nltk_data]   Package punkt is already up-to-date!\n",
      "[nltk_data] Downloading package stopwords to\n",
      "[nltk_data]     /Users/a.tsigankov/nltk_data...\n",
      "[nltk_data]   Package stopwords is already up-to-date!\n"
     ]
    },
    {
     "data": {
      "text/plain": [
       "True"
      ]
     },
     "execution_count": 1,
     "metadata": {},
     "output_type": "execute_result"
    }
   ],
   "source": [
    "import wikipedia\n",
    "import nltk\n",
    "import re\n",
    "from pymystem3 import Mystem\n",
    "from collections import Counter\n",
    "import numpy as np\n",
    "import pandas as pd\n",
    "from sklearn.metrics.pairwise import cosine_similarity\n",
    "from nltk.corpus import stopwords\n",
    "nltk.download('punkt')\n",
    "nltk.download(\"stopwords\")"
   ]
  },
  {
   "cell_type": "code",
   "execution_count": 2,
   "metadata": {},
   "outputs": [],
   "source": [
    "# for pretty output\n",
    "from IPython.display import Markdown, display\n",
    "def printmd(string):\n",
    "    display(Markdown(string))"
   ]
  },
  {
   "cell_type": "code",
   "execution_count": 3,
   "metadata": {},
   "outputs": [],
   "source": [
    "pd.set_option('max_colwidth', 80)\n",
    "wikipedia.set_lang('ru')\n",
    "tokenizer = nltk.RegexpTokenizer(r\"\\w+\")\n",
    "mystem = Mystem()\n",
    "russian_stopwords = stopwords.words(\"russian\")"
   ]
  },
  {
   "cell_type": "markdown",
   "metadata": {},
   "source": [
    "Факты"
   ]
  },
  {
   "cell_type": "code",
   "execution_count": 4,
   "metadata": {},
   "outputs": [],
   "source": [
    "facts = [\n",
    "    \"Нацистский врач-эсэсовец, работавший в шести концлагерях, был дважды оправдан и выпущен на свободу.\",\n",
    "    \"Историк утверждает, что, прежде чем допустить крестьян на личный прием к вождю мирового пролетариата, их проводили через дезинфекционный пункт.\",\n",
    "    \"В России акции протеста проходят не только на площадях, но и на поездах.\"\n",
    "]"
   ]
  },
  {
   "cell_type": "markdown",
   "metadata": {},
   "source": [
    "Название статей Википедии, на которые ссылаются факты"
   ]
  },
  {
   "cell_type": "code",
   "execution_count": 5,
   "metadata": {},
   "outputs": [],
   "source": [
    "wikipedia_pages = {\n",
    "    1: [\"Шмидт, Генрих (врач)\"],\n",
    "    2: [\"Ходоки у В. И. Ленина\", \"Дезинфекция\"],\n",
    "    3: [\"Проезд снаружи поездов\"]\n",
    "}"
   ]
  },
  {
   "cell_type": "markdown",
   "metadata": {},
   "source": [
    "### Скачивание и обработка статей из Википедии"
   ]
  },
  {
   "cell_type": "code",
   "execution_count": 6,
   "metadata": {},
   "outputs": [],
   "source": [
    "def get_page_text(pagename):\n",
    "    page = wikipedia.page(pagename)\n",
    "    return page.content"
   ]
  },
  {
   "cell_type": "code",
   "execution_count": 7,
   "metadata": {},
   "outputs": [],
   "source": [
    "def remove_trash(page_text):\n",
    "    page_text = re.sub('\\s', ' ', page_text)\n",
    "    page_text = re.sub('[А-Я]\\.', '', page_text)\n",
    "    page_text = re.sub(r'\\=\\= Примечания[\\w\\s\\=]*', '', page_text)\n",
    "    page_text = page_text.replace('.', '. ')\n",
    "    page_text = page_text.replace('\\n', ' ')\n",
    "    headers = re.findall(r\"\\=\\=.*?\\=\\=\", page_text)\n",
    "    for header in headers:\n",
    "        page_text = page_text.replace(header, '')\n",
    "    \n",
    "    return page_text"
   ]
  },
  {
   "cell_type": "code",
   "execution_count": 8,
   "metadata": {},
   "outputs": [],
   "source": [
    "documents = []\n",
    "\n",
    "for num in wikipedia_pages.keys():\n",
    "    for page in wikipedia_pages[num]:\n",
    "        page_text = remove_trash(get_page_text(page))\n",
    "        sentences = nltk.sent_tokenize(page_text, language=\"russian\")\n",
    "        documents.extend(sentences)"
   ]
  },
  {
   "cell_type": "code",
   "execution_count": 9,
   "metadata": {},
   "outputs": [],
   "source": [
    "# добавление фактов\n",
    "documents.extend(facts)"
   ]
  },
  {
   "cell_type": "code",
   "execution_count": 10,
   "metadata": {},
   "outputs": [],
   "source": [
    "wiki = pd.DataFrame(documents)"
   ]
  },
  {
   "cell_type": "code",
   "execution_count": 11,
   "metadata": {},
   "outputs": [],
   "source": [
    "wiki.columns = ['document']"
   ]
  },
  {
   "cell_type": "code",
   "execution_count": 12,
   "metadata": {},
   "outputs": [],
   "source": [
    "wiki['relevance'] = 0"
   ]
  },
  {
   "cell_type": "code",
   "execution_count": 13,
   "metadata": {},
   "outputs": [],
   "source": [
    "wiki.at[0, 'relevance'] = 1\n",
    "wiki.at[234, 'relevance'] = 1\n",
    "wiki.at[59, 'relevance'] = 1\n",
    "wiki.at[61, 'relevance'] = 1\n",
    "wiki.at[62, 'relevance'] = 1"
   ]
  },
  {
   "cell_type": "code",
   "execution_count": 14,
   "metadata": {},
   "outputs": [],
   "source": [
    "wiki.at[10, 'relevance'] = 2\n",
    "wiki.at[13, 'relevance'] = 2\n",
    "wiki.at[60, 'relevance'] = 2\n",
    "wiki.at[345, 'relevance'] = 2"
   ]
  },
  {
   "cell_type": "code",
   "execution_count": 15,
   "metadata": {},
   "outputs": [
    {
     "data": {
      "text/html": [
       "<div>\n",
       "<style scoped>\n",
       "    .dataframe tbody tr th:only-of-type {\n",
       "        vertical-align: middle;\n",
       "    }\n",
       "\n",
       "    .dataframe tbody tr th {\n",
       "        vertical-align: top;\n",
       "    }\n",
       "\n",
       "    .dataframe thead th {\n",
       "        text-align: right;\n",
       "    }\n",
       "</style>\n",
       "<table border=\"1\" class=\"dataframe\">\n",
       "  <thead>\n",
       "    <tr style=\"text-align: right;\">\n",
       "      <th></th>\n",
       "      <th>document</th>\n",
       "      <th>relevance</th>\n",
       "    </tr>\n",
       "  </thead>\n",
       "  <tbody>\n",
       "    <tr>\n",
       "      <th>0</th>\n",
       "      <td>Эрнст Генрих Шмидт (нем.  Ernst Heinrich Schmidt; 27 марта 1912, Альтенбург,...</td>\n",
       "      <td>1</td>\n",
       "    </tr>\n",
       "    <tr>\n",
       "      <th>1</th>\n",
       "      <td>Генрих Шмидт родился 27 марта 1912 года в Альтенбурге.</td>\n",
       "      <td>0</td>\n",
       "    </tr>\n",
       "    <tr>\n",
       "      <th>2</th>\n",
       "      <td>В 1933 году был зачислен в СС (№ 23 069).</td>\n",
       "      <td>0</td>\n",
       "    </tr>\n",
       "    <tr>\n",
       "      <th>3</th>\n",
       "      <td>В 1937 году получил степень доктора медицинских наук в Лейпцигском университ...</td>\n",
       "      <td>0</td>\n",
       "    </tr>\n",
       "    <tr>\n",
       "      <th>4</th>\n",
       "      <td>После начала Второй мировой войны работал в лазарете Ваффен С  С 1941 года с...</td>\n",
       "      <td>0</td>\n",
       "    </tr>\n",
       "  </tbody>\n",
       "</table>\n",
       "</div>"
      ],
      "text/plain": [
       "                                                                          document  \\\n",
       "0  Эрнст Генрих Шмидт (нем.  Ernst Heinrich Schmidt; 27 марта 1912, Альтенбург,...   \n",
       "1                           Генрих Шмидт родился 27 марта 1912 года в Альтенбурге.   \n",
       "2                                        В 1933 году был зачислен в СС (№ 23 069).   \n",
       "3  В 1937 году получил степень доктора медицинских наук в Лейпцигском университ...   \n",
       "4  После начала Второй мировой войны работал в лазарете Ваффен С  С 1941 года с...   \n",
       "\n",
       "   relevance  \n",
       "0          1  \n",
       "1          0  \n",
       "2          0  \n",
       "3          0  \n",
       "4          0  "
      ]
     },
     "execution_count": 15,
     "metadata": {},
     "output_type": "execute_result"
    }
   ],
   "source": [
    "wiki.head()"
   ]
  },
  {
   "cell_type": "markdown",
   "metadata": {},
   "source": [
    "### Лемматизация "
   ]
  },
  {
   "cell_type": "code",
   "execution_count": 16,
   "metadata": {},
   "outputs": [],
   "source": [
    "def lemmatize(sentence):\n",
    "    return ''.join((mystem.lemmatize(' '.join(tokenizer.tokenize(sentence))))).replace('\\n', '')"
   ]
  },
  {
   "cell_type": "code",
   "execution_count": 17,
   "metadata": {},
   "outputs": [],
   "source": [
    "def remove_stop_words(sentence):\n",
    "    return ' '.join([word for word in sentence.split(' ') if word not in russian_stopwords])"
   ]
  },
  {
   "cell_type": "code",
   "execution_count": 18,
   "metadata": {},
   "outputs": [],
   "source": [
    "wiki['lemmatized_document'] = wiki.document.apply(lemmatize)\n",
    "wiki['lemmatized_document'] = wiki.lemmatized_document.apply(remove_stop_words)"
   ]
  },
  {
   "cell_type": "code",
   "execution_count": 19,
   "metadata": {},
   "outputs": [],
   "source": [
    "wiki['length'] = wiki.lemmatized_document.apply(lambda x: len(x.split()))"
   ]
  },
  {
   "cell_type": "code",
   "execution_count": 20,
   "metadata": {},
   "outputs": [],
   "source": [
    "wiki = wiki[wiki.length > 1].reset_index()"
   ]
  },
  {
   "cell_type": "code",
   "execution_count": 21,
   "metadata": {},
   "outputs": [],
   "source": [
    "# wiki.to_csv('dump.csv')"
   ]
  },
  {
   "cell_type": "code",
   "execution_count": 22,
   "metadata": {},
   "outputs": [
    {
     "data": {
      "text/html": [
       "<div>\n",
       "<style scoped>\n",
       "    .dataframe tbody tr th:only-of-type {\n",
       "        vertical-align: middle;\n",
       "    }\n",
       "\n",
       "    .dataframe tbody tr th {\n",
       "        vertical-align: top;\n",
       "    }\n",
       "\n",
       "    .dataframe thead th {\n",
       "        text-align: right;\n",
       "    }\n",
       "</style>\n",
       "<table border=\"1\" class=\"dataframe\">\n",
       "  <thead>\n",
       "    <tr style=\"text-align: right;\">\n",
       "      <th></th>\n",
       "      <th>index</th>\n",
       "      <th>document</th>\n",
       "      <th>relevance</th>\n",
       "      <th>lemmatized_document</th>\n",
       "      <th>length</th>\n",
       "    </tr>\n",
       "  </thead>\n",
       "  <tbody>\n",
       "    <tr>\n",
       "      <th>540</th>\n",
       "      <td>561</td>\n",
       "      <td>Дата обращения: 7 декабря 2012.</td>\n",
       "      <td>0</td>\n",
       "      <td>дата обращение 7 декабрь 2012</td>\n",
       "      <td>5</td>\n",
       "    </tr>\n",
       "    <tr>\n",
       "      <th>541</th>\n",
       "      <td>562</td>\n",
       "      <td>Архивировано 27 декабря 2012 года.</td>\n",
       "      <td>0</td>\n",
       "      <td>архивировать 27 декабрь 2012 год</td>\n",
       "      <td>5</td>\n",
       "    </tr>\n",
       "    <tr>\n",
       "      <th>542</th>\n",
       "      <td>563</td>\n",
       "      <td>Нацистский врач-эсэсовец, работавший в шести концлагерях, был дважды оправда...</td>\n",
       "      <td>0</td>\n",
       "      <td>нацистский врач эсэсовец работать шесть концлагерь дважды оправдывать выпуск...</td>\n",
       "      <td>10</td>\n",
       "    </tr>\n",
       "    <tr>\n",
       "      <th>543</th>\n",
       "      <td>564</td>\n",
       "      <td>Историк утверждает, что, прежде чем допустить крестьян на личный прием к вож...</td>\n",
       "      <td>0</td>\n",
       "      <td>историк утверждать прежде допускать крестьянин личный прием вождь мировой пр...</td>\n",
       "      <td>13</td>\n",
       "    </tr>\n",
       "    <tr>\n",
       "      <th>544</th>\n",
       "      <td>565</td>\n",
       "      <td>В России акции протеста проходят не только на площадях, но и на поездах.</td>\n",
       "      <td>0</td>\n",
       "      <td>россия акция протест проходить площадь поезд</td>\n",
       "      <td>6</td>\n",
       "    </tr>\n",
       "  </tbody>\n",
       "</table>\n",
       "</div>"
      ],
      "text/plain": [
       "     index  \\\n",
       "540    561   \n",
       "541    562   \n",
       "542    563   \n",
       "543    564   \n",
       "544    565   \n",
       "\n",
       "                                                                            document  \\\n",
       "540                                                  Дата обращения: 7 декабря 2012.   \n",
       "541                                               Архивировано 27 декабря 2012 года.   \n",
       "542  Нацистский врач-эсэсовец, работавший в шести концлагерях, был дважды оправда...   \n",
       "543  Историк утверждает, что, прежде чем допустить крестьян на личный прием к вож...   \n",
       "544         В России акции протеста проходят не только на площадях, но и на поездах.   \n",
       "\n",
       "     relevance  \\\n",
       "540          0   \n",
       "541          0   \n",
       "542          0   \n",
       "543          0   \n",
       "544          0   \n",
       "\n",
       "                                                                 lemmatized_document  \\\n",
       "540                                                    дата обращение 7 декабрь 2012   \n",
       "541                                                 архивировать 27 декабрь 2012 год   \n",
       "542  нацистский врач эсэсовец работать шесть концлагерь дважды оправдывать выпуск...   \n",
       "543  историк утверждать прежде допускать крестьянин личный прием вождь мировой пр...   \n",
       "544                                     россия акция протест проходить площадь поезд   \n",
       "\n",
       "     length  \n",
       "540       5  \n",
       "541       5  \n",
       "542      10  \n",
       "543      13  \n",
       "544       6  "
      ]
     },
     "execution_count": 22,
     "metadata": {},
     "output_type": "execute_result"
    }
   ],
   "source": [
    "wiki.tail()"
   ]
  },
  {
   "cell_type": "markdown",
   "metadata": {},
   "source": [
    "#### tf-idf model"
   ]
  },
  {
   "cell_type": "code",
   "execution_count": 23,
   "metadata": {},
   "outputs": [],
   "source": [
    "class Vectorizer:\n",
    "    \n",
    "    def __init__(self, corpus):\n",
    "        self.corpus = corpus\n",
    "        self.vocabulary = np.unique([word for word in ' '.join(corpus).split(' ') if len(word) != 0])\n",
    "        self.corpus_length = len(corpus)\n",
    "        self.vocabulary_length = len(self.vocabulary)\n",
    "        self.vectorized_idf = np.vectorize(lambda x: np.log10(self.corpus_length / x))\n",
    "        self.inverse_vocabulary = {v: k for k, v in dict(enumerate(self.vocabulary)).items()}\n",
    "        self.vectorize()\n",
    "        \n",
    "    def vectorize(self, tf_normed=False):\n",
    "        tf = []\n",
    "        df = np.zeros(self.vocabulary_length, dtype=int)\n",
    "\n",
    "        for document in self.corpus:\n",
    "            document_vector = np.zeros(self.vocabulary_length, dtype=int)\n",
    "            for word in document.split(' '):\n",
    "                if word != '':\n",
    "                    document_vector[self.inverse_vocabulary[word]] += 1\n",
    "            for word in np.unique(document.split(' ')):\n",
    "                if word != '':\n",
    "                    df[self.inverse_vocabulary[word]] += 1\n",
    "            tf.append(document_vector)\n",
    "\n",
    "        tf = np.stack(tf, axis=0)\n",
    "        \n",
    "        self.tf = tf\n",
    "        \n",
    "        if tf_normed:\n",
    "            \n",
    "            def tf_max(array):\n",
    "                array = array / array.max()\n",
    "                array[array != 0] *= 0.6\n",
    "                array[array != 0] += 0.4\n",
    "                return array\n",
    "\n",
    "            tf = np.apply_along_axis(tf_max, 1, tf)\n",
    "\n",
    "        idf = self.vectorized_idf(df)\n",
    "        tf_idf = np.apply_along_axis(lambda x: x * idf, 1, tf)\n",
    "        \n",
    "        return tf_idf\n",
    "    \n",
    "    def get_inverse_vocabulary(self):\n",
    "        return self.inverse_vocabulary\n",
    "    \n",
    "    def get_tf(self):\n",
    "        return self.tf"
   ]
  },
  {
   "cell_type": "markdown",
   "metadata": {},
   "source": [
    "#### Language model"
   ]
  },
  {
   "cell_type": "code",
   "execution_count": 24,
   "metadata": {},
   "outputs": [],
   "source": [
    "class LanguageModel:\n",
    "    def __init__(self, tf):\n",
    "        self.tf = tf\n",
    "        \n",
    "    def p(self, term):\n",
    "        return np.sum(self.tf[:, term]) / np.sum(self.tf)\n",
    "    \n",
    "    def p_d(self, term, document):\n",
    "        return self.tf[document, term] / np.sum(self.tf[document])\n",
    "    \n",
    "    def calculate(self, document, param=0.5):\n",
    "        r = []\n",
    "        for i in range(len(self.tf)):\n",
    "            pp = 1\n",
    "            for j in range(len(self.tf[document])):\n",
    "                if self.tf[document][j] != 0:\n",
    "                    pp *= ((1 - param) * self.p(j) + param * self.p_d(j, i))\n",
    "            r.append(pp)\n",
    "        indicies = np.argsort(np.array(r))[-11:][::-1]\n",
    "        return indicies, np.array(r)[indicies]"
   ]
  },
  {
   "cell_type": "code",
   "execution_count": 25,
   "metadata": {},
   "outputs": [],
   "source": [
    "vectorizer = Vectorizer(wiki['lemmatized_document'])\n",
    "lang_model = LanguageModel(vectorizer.get_tf())"
   ]
  },
  {
   "cell_type": "code",
   "execution_count": 26,
   "metadata": {},
   "outputs": [],
   "source": [
    "tfidf_weights = vectorizer.vectorize()\n",
    "tfidf_weights_normed = vectorizer.vectorize(tf_normed=True)"
   ]
  },
  {
   "cell_type": "code",
   "execution_count": 27,
   "metadata": {},
   "outputs": [],
   "source": [
    "facts_indexes = [542, 543, 544]"
   ]
  },
  {
   "cell_type": "code",
   "execution_count": 28,
   "metadata": {},
   "outputs": [],
   "source": [
    "similarity = cosine_similarity(tfidf_weights, tfidf_weights)\n",
    "similarity_normed = cosine_similarity(tfidf_weights_normed, tfidf_weights_normed)"
   ]
  },
  {
   "cell_type": "code",
   "execution_count": 29,
   "metadata": {},
   "outputs": [],
   "source": [
    "def get_nearest_documents(similarity, index):\n",
    "    \n",
    "    indices = np.argsort(similarity[index])[-11:][::-1]\n",
    "    cosine = similarity[index][indices]\n",
    "    \n",
    "    return cosine, wiki.loc[indices]['document'].values, wiki.loc[indices]['relevance'].values\n",
    "\n",
    "def print_results_for_document(similarity, index):\n",
    "    \n",
    "    cosines, documents, relevances = get_nearest_documents(similarity, index)\n",
    "    \n",
    "    fact = documents[0]\n",
    "    \n",
    "    printmd(\"Факт: \" + \"**\" + str(fact) + \"**\")\n",
    "    printmd(\"Близкие документы:\")\n",
    "    \n",
    "    for doc, cosine, relevance in zip(documents[1:], cosines[1:], relevances[1:]):\n",
    "        printmd(f\"* [cos: {cosine:.2f}][rel: {relevance}] {doc}\")"
   ]
  },
  {
   "cell_type": "code",
   "execution_count": 30,
   "metadata": {},
   "outputs": [],
   "source": [
    "def results_for_document_lang(index, param=0.5):\n",
    "    \n",
    "    # cosines, documents, relevances = get_nearest_documents(similarity, index)\n",
    "    indices, weights = lang_model.calculate(index, param)\n",
    "    documents = wiki.loc[indices[0:]]['document'].values\n",
    "    relevances = wiki.loc[indices[0:]]['relevance'].values\n",
    "    \n",
    "    fact = documents[0]\n",
    "    \n",
    "    printmd(\"Факт: \" + \"**\" + str(fact) + \"**\")\n",
    "    printmd(\"Близкие документы:\")\n",
    "    \n",
    "    for doc, relevance, w in zip(documents[1:], relevances[1:], weights[1:]):\n",
    "        printmd(f\"* [rel: {relevance}][weight: {w}] {doc}\")"
   ]
  },
  {
   "cell_type": "markdown",
   "metadata": {},
   "source": [
    "# Выдача векторной модели"
   ]
  },
  {
   "cell_type": "code",
   "execution_count": 31,
   "metadata": {},
   "outputs": [
    {
     "data": {
      "text/markdown": [
       "## Без нормализации tf"
      ],
      "text/plain": [
       "<IPython.core.display.Markdown object>"
      ]
     },
     "metadata": {},
     "output_type": "display_data"
    },
    {
     "data": {
      "text/markdown": [
       "Факт: **Нацистский врач-эсэсовец, работавший в шести концлагерях, был дважды оправдан и выпущен на свободу.**"
      ],
      "text/plain": [
       "<IPython.core.display.Markdown object>"
      ]
     },
     "metadata": {},
     "output_type": "display_data"
    },
    {
     "data": {
      "text/markdown": [
       "Близкие документы:"
      ],
      "text/plain": [
       "<IPython.core.display.Markdown object>"
      ]
     },
     "metadata": {},
     "output_type": "display_data"
    },
    {
     "data": {
      "text/markdown": [
       "* [cos: 0.20][rel: 2] В итоге он был оправдан."
      ],
      "text/plain": [
       "<IPython.core.display.Markdown object>"
      ]
     },
     "metadata": {},
     "output_type": "display_data"
    },
    {
     "data": {
      "text/markdown": [
       "* [cos: 0.20][rel: 0] После начала Второй мировой войны работал в лазарете Ваффен С  С 1941 года служил врачом в концлагере Бухенвальд, в июне 1942 года был переведён в концлагерь Майданек."
      ],
      "text/plain": [
       "<IPython.core.display.Markdown object>"
      ]
     },
     "metadata": {},
     "output_type": "display_data"
    },
    {
     "data": {
      "text/markdown": [
       "* [cos: 0.16][rel: 0] В октябре 1943 года стал главным врачом в концлагере Гросс-Розен, а с сентября 1944 года служил в концлагере Дахау."
      ],
      "text/plain": [
       "<IPython.core.display.Markdown object>"
      ]
     },
     "metadata": {},
     "output_type": "display_data"
    },
    {
     "data": {
      "text/markdown": [
       "* [cos: 0.10][rel: 0] С некоторых пор и в России они получили распространение и стали атрибутом не только кабинета врача или аптечки автомобилиста или врача скорой помощи, но и обычной домашней аптечки."
      ],
      "text/plain": [
       "<IPython.core.display.Markdown object>"
      ]
     },
     "metadata": {},
     "output_type": "display_data"
    },
    {
     "data": {
      "text/markdown": [
       "* [cos: 0.09][rel: 0] 1 УК РФ предусматривается значительное наказание — штраф от 150 до 300 тысяч рублей или лишение свободы сроком до 2 лет."
      ],
      "text/plain": [
       "<IPython.core.display.Markdown object>"
      ]
     },
     "metadata": {},
     "output_type": "display_data"
    },
    {
     "data": {
      "text/markdown": [
       "* [cos: 0.09][rel: 0] Предметы, жесты и позы персонажей работают на главную идею произведения."
      ],
      "text/plain": [
       "<IPython.core.display.Markdown object>"
      ]
     },
     "metadata": {},
     "output_type": "display_data"
    },
    {
     "data": {
      "text/markdown": [
       "* [cos: 0.08][rel: 1] Эрнст Генрих Шмидт (нем.  Ernst Heinrich Schmidt; 27 марта 1912, Альтенбург, Германская империя — 28 ноября 2000, Целле, Германия) — немецкий врач, гауптштурмфюрер СС, служивший в различных концлагерях."
      ],
      "text/plain": [
       "<IPython.core.display.Markdown object>"
      ]
     },
     "metadata": {},
     "output_type": "display_data"
    },
    {
     "data": {
      "text/markdown": [
       "* [cos: 0.08][rel: 0] К 1950 году, уже много лет работая над образом   Ленина, художник тем не менее не получал полного удовлетворения от результатов своего труда."
      ],
      "text/plain": [
       "<IPython.core.display.Markdown object>"
      ]
     },
     "metadata": {},
     "output_type": "display_data"
    },
    {
     "data": {
      "text/markdown": [
       "* [cos: 0.07][rel: 2] Из-за отсутствия доказательств 20 марта 1979 года Шмидт вновь был оправдан, а 19 апреля 1979 года освобождён."
      ],
      "text/plain": [
       "<IPython.core.display.Markdown object>"
      ]
     },
     "metadata": {},
     "output_type": "display_data"
    },
    {
     "data": {
      "text/markdown": [
       "* [cos: 0.07][rel: 0] В 1950 году на Ленинградском фарфоровом заводе была выпущена декоративная ваза с росписью художника Валентина Сарлунда, в основе которой лежала картина Владимира Серова."
      ],
      "text/plain": [
       "<IPython.core.display.Markdown object>"
      ]
     },
     "metadata": {},
     "output_type": "display_data"
    },
    {
     "data": {
      "text/markdown": [
       "## С нормализацией tf"
      ],
      "text/plain": [
       "<IPython.core.display.Markdown object>"
      ]
     },
     "metadata": {},
     "output_type": "display_data"
    },
    {
     "data": {
      "text/markdown": [
       "Факт: **Нацистский врач-эсэсовец, работавший в шести концлагерях, был дважды оправдан и выпущен на свободу.**"
      ],
      "text/plain": [
       "<IPython.core.display.Markdown object>"
      ]
     },
     "metadata": {},
     "output_type": "display_data"
    },
    {
     "data": {
      "text/markdown": [
       "Близкие документы:"
      ],
      "text/plain": [
       "<IPython.core.display.Markdown object>"
      ]
     },
     "metadata": {},
     "output_type": "display_data"
    },
    {
     "data": {
      "text/markdown": [
       "* [cos: 0.20][rel: 2] В итоге он был оправдан."
      ],
      "text/plain": [
       "<IPython.core.display.Markdown object>"
      ]
     },
     "metadata": {},
     "output_type": "display_data"
    },
    {
     "data": {
      "text/markdown": [
       "* [cos: 0.18][rel: 0] После начала Второй мировой войны работал в лазарете Ваффен С  С 1941 года служил врачом в концлагере Бухенвальд, в июне 1942 года был переведён в концлагерь Майданек."
      ],
      "text/plain": [
       "<IPython.core.display.Markdown object>"
      ]
     },
     "metadata": {},
     "output_type": "display_data"
    },
    {
     "data": {
      "text/markdown": [
       "* [cos: 0.14][rel: 0] В октябре 1943 года стал главным врачом в концлагере Гросс-Розен, а с сентября 1944 года служил в концлагере Дахау."
      ],
      "text/plain": [
       "<IPython.core.display.Markdown object>"
      ]
     },
     "metadata": {},
     "output_type": "display_data"
    },
    {
     "data": {
      "text/markdown": [
       "* [cos: 0.09][rel: 0] 1 УК РФ предусматривается значительное наказание — штраф от 150 до 300 тысяч рублей или лишение свободы сроком до 2 лет."
      ],
      "text/plain": [
       "<IPython.core.display.Markdown object>"
      ]
     },
     "metadata": {},
     "output_type": "display_data"
    },
    {
     "data": {
      "text/markdown": [
       "* [cos: 0.09][rel: 0] Предметы, жесты и позы персонажей работают на главную идею произведения."
      ],
      "text/plain": [
       "<IPython.core.display.Markdown object>"
      ]
     },
     "metadata": {},
     "output_type": "display_data"
    },
    {
     "data": {
      "text/markdown": [
       "* [cos: 0.08][rel: 1] Эрнст Генрих Шмидт (нем.  Ernst Heinrich Schmidt; 27 марта 1912, Альтенбург, Германская империя — 28 ноября 2000, Целле, Германия) — немецкий врач, гауптштурмфюрер СС, служивший в различных концлагерях."
      ],
      "text/plain": [
       "<IPython.core.display.Markdown object>"
      ]
     },
     "metadata": {},
     "output_type": "display_data"
    },
    {
     "data": {
      "text/markdown": [
       "* [cos: 0.08][rel: 2] Из-за отсутствия доказательств 20 марта 1979 года Шмидт вновь был оправдан, а 19 апреля 1979 года освобождён."
      ],
      "text/plain": [
       "<IPython.core.display.Markdown object>"
      ]
     },
     "metadata": {},
     "output_type": "display_data"
    },
    {
     "data": {
      "text/markdown": [
       "* [cos: 0.08][rel: 0] К 1950 году, уже много лет работая над образом   Ленина, художник тем не менее не получал полного удовлетворения от результатов своего труда."
      ],
      "text/plain": [
       "<IPython.core.display.Markdown object>"
      ]
     },
     "metadata": {},
     "output_type": "display_data"
    },
    {
     "data": {
      "text/markdown": [
       "* [cos: 0.08][rel: 0] С некоторых пор и в России они получили распространение и стали атрибутом не только кабинета врача или аптечки автомобилиста или врача скорой помощи, но и обычной домашней аптечки."
      ],
      "text/plain": [
       "<IPython.core.display.Markdown object>"
      ]
     },
     "metadata": {},
     "output_type": "display_data"
    },
    {
     "data": {
      "text/markdown": [
       "* [cos: 0.07][rel: 0] В 1950 году на Ленинградском фарфоровом заводе была выпущена декоративная ваза с росписью художника Валентина Сарлунда, в основе которой лежала картина Владимира Серова."
      ],
      "text/plain": [
       "<IPython.core.display.Markdown object>"
      ]
     },
     "metadata": {},
     "output_type": "display_data"
    }
   ],
   "source": [
    "printmd('## Без нормализации tf')\n",
    "print_results_for_document(similarity, facts_indexes[0])\n",
    "printmd('## С нормализацией tf')\n",
    "print_results_for_document(similarity_normed, facts_indexes[0])"
   ]
  },
  {
   "cell_type": "code",
   "execution_count": 32,
   "metadata": {},
   "outputs": [
    {
     "data": {
      "text/markdown": [
       "## Без нормализации tf"
      ],
      "text/plain": [
       "<IPython.core.display.Markdown object>"
      ]
     },
     "metadata": {},
     "output_type": "display_data"
    },
    {
     "data": {
      "text/markdown": [
       "Факт: **Историк утверждает, что, прежде чем допустить крестьян на личный прием к вождю мирового пролетариата, их проводили через дезинфекционный пункт.**"
      ],
      "text/plain": [
       "<IPython.core.display.Markdown object>"
      ]
     },
     "metadata": {},
     "output_type": "display_data"
    },
    {
     "data": {
      "text/markdown": [
       "Близкие документы:"
      ],
      "text/plain": [
       "<IPython.core.display.Markdown object>"
      ]
     },
     "metadata": {},
     "output_type": "display_data"
    },
    {
     "data": {
      "text/markdown": [
       "* [cos: 0.13][rel: 2] Например, Нина Тумаркин упоминала, что в Кремле был организован дезинфекционный пункт, через который пропускали посетителей председателя Совнаркома."
      ],
      "text/plain": [
       "<IPython.core.display.Markdown object>"
      ]
     },
     "metadata": {},
     "output_type": "display_data"
    },
    {
     "data": {
      "text/markdown": [
       "* [cos: 0.11][rel: 0] Паровоздушная смесь является действующим началом в пароформалиновой дезинфекционной камере; в дезинфекционных камерах обеззараживают вещи больного и постельные принадлежности."
      ],
      "text/plain": [
       "<IPython.core.display.Markdown object>"
      ]
     },
     "metadata": {},
     "output_type": "display_data"
    },
    {
     "data": {
      "text/markdown": [
       "* [cos: 0.11][rel: 0] 1 КоАП РФ, пункт 3)."
      ],
      "text/plain": [
       "<IPython.core.display.Markdown object>"
      ]
     },
     "metadata": {},
     "output_type": "display_data"
    },
    {
     "data": {
      "text/markdown": [
       "* [cos: 0.11][rel: 0] Сам Серов утверждал, что этот персонаж самовольно оставил окопы мировой войны, фронт стал для него настоящей революционной школой, к Ленину он пришёл, будучи избран для этой миссии своими земляками."
      ],
      "text/plain": [
       "<IPython.core.display.Markdown object>"
      ]
     },
     "metadata": {},
     "output_type": "display_data"
    },
    {
     "data": {
      "text/markdown": [
       "* [cos: 0.11][rel: 0] В своей версии сцены приёма ходоков Базелиц полностью удаляет фигуру Ленина, сосредочившись на тяжёлом положении крестьян."
      ],
      "text/plain": [
       "<IPython.core.display.Markdown object>"
      ]
     },
     "metadata": {},
     "output_type": "display_data"
    },
    {
     "data": {
      "text/markdown": [
       "* [cos: 0.11][rel: 0] 29 пункт 1 КоАП РФ)."
      ],
      "text/plain": [
       "<IPython.core.display.Markdown object>"
      ]
     },
     "metadata": {},
     "output_type": "display_data"
    },
    {
     "data": {
      "text/markdown": [
       "* [cos: 0.11][rel: 0] Советский, а после эмиграции — британский историк искусства Игорь Голомшток утверждал, что «обязательной принадлежностью колхозных клубов и сельсоветов было изображение типа „Ходоки у Ленина“  Серова»."
      ],
      "text/plain": [
       "<IPython.core.display.Markdown object>"
      ]
     },
     "metadata": {},
     "output_type": "display_data"
    },
    {
     "data": {
      "text/markdown": [
       "* [cos: 0.10][rel: 0] Крестьянин, затаив дыхание, «с надеждой и любовью безотрывно смотрит на вождя»."
      ],
      "text/plain": [
       "<IPython.core.display.Markdown object>"
      ]
     },
     "metadata": {},
     "output_type": "display_data"
    },
    {
     "data": {
      "text/markdown": [
       "* [cos: 0.10][rel: 0] В этой обстановке в деревне возникали сложные проблемы, вызывавшие потребность личного общения крестьян с председателем рабоче-крестьянского правительства."
      ],
      "text/plain": [
       "<IPython.core.display.Markdown object>"
      ]
     },
     "metadata": {},
     "output_type": "display_data"
    },
    {
     "data": {
      "text/markdown": [
       "* [cos: 0.09][rel: 0] После того, как   Калинин был избран председателем ВЦИКа, Владимир Ильич передал ему личное общение с крестьянами, так как «Михаил Иванович лучше других знает деревню и поэтому он спокоен за то, что каждое ходатайство крестьян будет рассмотрено подробно и хорошо»."
      ],
      "text/plain": [
       "<IPython.core.display.Markdown object>"
      ]
     },
     "metadata": {},
     "output_type": "display_data"
    },
    {
     "data": {
      "text/markdown": [
       "## С нормализацией tf"
      ],
      "text/plain": [
       "<IPython.core.display.Markdown object>"
      ]
     },
     "metadata": {},
     "output_type": "display_data"
    },
    {
     "data": {
      "text/markdown": [
       "Факт: **Историк утверждает, что, прежде чем допустить крестьян на личный прием к вождю мирового пролетариата, их проводили через дезинфекционный пункт.**"
      ],
      "text/plain": [
       "<IPython.core.display.Markdown object>"
      ]
     },
     "metadata": {},
     "output_type": "display_data"
    },
    {
     "data": {
      "text/markdown": [
       "Близкие документы:"
      ],
      "text/plain": [
       "<IPython.core.display.Markdown object>"
      ]
     },
     "metadata": {},
     "output_type": "display_data"
    },
    {
     "data": {
      "text/markdown": [
       "* [cos: 0.13][rel: 2] Например, Нина Тумаркин упоминала, что в Кремле был организован дезинфекционный пункт, через который пропускали посетителей председателя Совнаркома."
      ],
      "text/plain": [
       "<IPython.core.display.Markdown object>"
      ]
     },
     "metadata": {},
     "output_type": "display_data"
    },
    {
     "data": {
      "text/markdown": [
       "* [cos: 0.11][rel: 0] 1 КоАП РФ, пункт 3)."
      ],
      "text/plain": [
       "<IPython.core.display.Markdown object>"
      ]
     },
     "metadata": {},
     "output_type": "display_data"
    },
    {
     "data": {
      "text/markdown": [
       "* [cos: 0.11][rel: 0] Сам Серов утверждал, что этот персонаж самовольно оставил окопы мировой войны, фронт стал для него настоящей революционной школой, к Ленину он пришёл, будучи избран для этой миссии своими земляками."
      ],
      "text/plain": [
       "<IPython.core.display.Markdown object>"
      ]
     },
     "metadata": {},
     "output_type": "display_data"
    },
    {
     "data": {
      "text/markdown": [
       "* [cos: 0.11][rel: 0] В своей версии сцены приёма ходоков Базелиц полностью удаляет фигуру Ленина, сосредочившись на тяжёлом положении крестьян."
      ],
      "text/plain": [
       "<IPython.core.display.Markdown object>"
      ]
     },
     "metadata": {},
     "output_type": "display_data"
    },
    {
     "data": {
      "text/markdown": [
       "* [cos: 0.11][rel: 0] 29 пункт 1 КоАП РФ)."
      ],
      "text/plain": [
       "<IPython.core.display.Markdown object>"
      ]
     },
     "metadata": {},
     "output_type": "display_data"
    },
    {
     "data": {
      "text/markdown": [
       "* [cos: 0.11][rel: 0] Советский, а после эмиграции — британский историк искусства Игорь Голомшток утверждал, что «обязательной принадлежностью колхозных клубов и сельсоветов было изображение типа „Ходоки у Ленина“  Серова»."
      ],
      "text/plain": [
       "<IPython.core.display.Markdown object>"
      ]
     },
     "metadata": {},
     "output_type": "display_data"
    },
    {
     "data": {
      "text/markdown": [
       "* [cos: 0.10][rel: 0] Крестьянин, затаив дыхание, «с надеждой и любовью безотрывно смотрит на вождя»."
      ],
      "text/plain": [
       "<IPython.core.display.Markdown object>"
      ]
     },
     "metadata": {},
     "output_type": "display_data"
    },
    {
     "data": {
      "text/markdown": [
       "* [cos: 0.10][rel: 0] В этой обстановке в деревне возникали сложные проблемы, вызывавшие потребность личного общения крестьян с председателем рабоче-крестьянского правительства."
      ],
      "text/plain": [
       "<IPython.core.display.Markdown object>"
      ]
     },
     "metadata": {},
     "output_type": "display_data"
    },
    {
     "data": {
      "text/markdown": [
       "* [cos: 0.09][rel: 0] Она утверждала, что «Ильич был особенно обходителен с крестьянами-ходоками» и «как-то особенно гостеприимно с ними здоровался при встрече»."
      ],
      "text/plain": [
       "<IPython.core.display.Markdown object>"
      ]
     },
     "metadata": {},
     "output_type": "display_data"
    },
    {
     "data": {
      "text/markdown": [
       "* [cos: 0.09][rel: 0] Паровоздушная смесь является действующим началом в пароформалиновой дезинфекционной камере; в дезинфекционных камерах обеззараживают вещи больного и постельные принадлежности."
      ],
      "text/plain": [
       "<IPython.core.display.Markdown object>"
      ]
     },
     "metadata": {},
     "output_type": "display_data"
    }
   ],
   "source": [
    "printmd('## Без нормализации tf')\n",
    "print_results_for_document(similarity, facts_indexes[1])\n",
    "printmd('## С нормализацией tf')\n",
    "print_results_for_document(similarity_normed, facts_indexes[1])"
   ]
  },
  {
   "cell_type": "code",
   "execution_count": 33,
   "metadata": {},
   "outputs": [
    {
     "data": {
      "text/markdown": [
       "## Без нормализации tf"
      ],
      "text/plain": [
       "<IPython.core.display.Markdown object>"
      ]
     },
     "metadata": {},
     "output_type": "display_data"
    },
    {
     "data": {
      "text/markdown": [
       "Факт: **В России акции протеста проходят не только на площадях, но и на поездах.**"
      ],
      "text/plain": [
       "<IPython.core.display.Markdown object>"
      ]
     },
     "metadata": {},
     "output_type": "display_data"
    },
    {
     "data": {
      "text/markdown": [
       "Близкие документы:"
      ],
      "text/plain": [
       "<IPython.core.display.Markdown object>"
      ]
     },
     "metadata": {},
     "output_type": "display_data"
    },
    {
     "data": {
      "text/markdown": [
       "* [cos: 0.17][rel: 2] Одна такая акция имела место 30 июля 2010 года на Горьковском направлении МЖД в день запуска скоростного поезда «Сапсан» сообщением Москва — Нижний Новгород, одной из заявленных целей которой, помимо приветствия «Сапсана», являлся протест против отмены пригородных электричек, обусловленной ремонтом путей в преддверии запуска скоростного поезда)."
      ],
      "text/plain": [
       "<IPython.core.display.Markdown object>"
      ]
     },
     "metadata": {},
     "output_type": "display_data"
    },
    {
     "data": {
      "text/markdown": [
       "* [cos: 0.17][rel: 0] Глядя на них, художник думал о дорогах, по которым они прошли."
      ],
      "text/plain": [
       "<IPython.core.display.Markdown object>"
      ]
     },
     "metadata": {},
     "output_type": "display_data"
    },
    {
     "data": {
      "text/markdown": [
       "* [cos: 0.09][rel: 0] Впоследствии предстал в качестве обвиняемого перед американским трибуналом, рассматривавшим преступления в концлагеря Дора и проходившим с 7 августа по 30 декабря 1947 года."
      ],
      "text/plain": [
       "<IPython.core.display.Markdown object>"
      ]
     },
     "metadata": {},
     "output_type": "display_data"
    },
    {
     "data": {
      "text/markdown": [
       "* [cos: 0.08][rel: 0] Доктор исторических наук, помощник и секретарь   Ленина Владимир Бонч-Бруевич вспоминал, что первая встреча Ленина с ходоками продолжалась пять часов, а всего через общение с ним за несколько месяцев прошло более 6000 человек."
      ],
      "text/plain": [
       "<IPython.core.display.Markdown object>"
      ]
     },
     "metadata": {},
     "output_type": "display_data"
    },
    {
     "data": {
      "text/markdown": [
       "* [cos: 0.08][rel: 0] Транспортная полиция России задерживает зацеперов."
      ],
      "text/plain": [
       "<IPython.core.display.Markdown object>"
      ]
     },
     "metadata": {},
     "output_type": "display_data"
    },
    {
     "data": {
      "text/markdown": [
       "* [cos: 0.08][rel: 0] Санкции в России  По состоянию на 2019 год в России проезд снаружи транспортных средств расценивается как административное правонарушение, санкции за которое различаются в зависимости от вида транспорта."
      ],
      "text/plain": [
       "<IPython.core.display.Markdown object>"
      ]
     },
     "metadata": {},
     "output_type": "display_data"
    },
    {
     "data": {
      "text/markdown": [
       "* [cos: 0.07][rel: 0] Также в связи с тем, что на ряде железных дорог среди трейнсёрферов время от времени могут появляться лица, которые при проезде занимаются вандализмом и наносят вред подвижному составу или создают помехи в движении поездов (например, рисуют граффити на лобовых стёклах кабин и корпусах поездов, ломают дворники и разбивают стёкла и фары, открывают концевые краны тормозной или напорной магистрали с целью экстренной остановки поезда без необходимости, опускают токоприёмники с целью обесточить поезд, бросают предметы в проходящие поезда и т.  д. ), ряд машинистов и железнодорожных любителей имеют резко негативное отношение ко всем пассажирам, проезжающим снаружи поездов, рассматривая каждого из них как потенциального вредителя."
      ],
      "text/plain": [
       "<IPython.core.display.Markdown object>"
      ]
     },
     "metadata": {},
     "output_type": "display_data"
    },
    {
     "data": {
      "text/markdown": [
       "* [cos: 0.07][rel: 0] Также в России с 2010 года участились случаи проезда снаружи поездов в метрополитенах, а в 2011 года зафиксирована попытка подобной поездки на скоростном поезде «Сапсан»."
      ],
      "text/plain": [
       "<IPython.core.display.Markdown object>"
      ]
     },
     "metadata": {},
     "output_type": "display_data"
    },
    {
     "data": {
      "text/markdown": [
       "* [cos: 0.06][rel: 0] Размер действующего по состоянию на 2010-е годы в России штрафа за проезд снаружи поезда, предусмотренного частью 1 статьи 11."
      ],
      "text/plain": [
       "<IPython.core.display.Markdown object>"
      ]
     },
     "metadata": {},
     "output_type": "display_data"
    },
    {
     "data": {
      "text/markdown": [
       "* [cos: 0.06][rel: 0] В СССР развитию этого явления на пригородных поездах способствовала произошедшая в 1980-х исключение проводников, ездивших в задних кабинах электро- и дизель-поездов, из состава поездной бригады, отсутствие планирования МПС увеличение количества вагонов в поезде на праздничные дни, а также нестабильная ситуация в России и ряде постсоветских стран в эпоху 90-х. В середине 2000-х в России на Московской и Октябрьской железных дорогах обострилась проблема переполненности пригородных электропоездов, сопряжённая с нехваткой их рейсов."
      ],
      "text/plain": [
       "<IPython.core.display.Markdown object>"
      ]
     },
     "metadata": {},
     "output_type": "display_data"
    },
    {
     "data": {
      "text/markdown": [
       "## С нормализацией tf"
      ],
      "text/plain": [
       "<IPython.core.display.Markdown object>"
      ]
     },
     "metadata": {},
     "output_type": "display_data"
    },
    {
     "data": {
      "text/markdown": [
       "Факт: **В России акции протеста проходят не только на площадях, но и на поездах.**"
      ],
      "text/plain": [
       "<IPython.core.display.Markdown object>"
      ]
     },
     "metadata": {},
     "output_type": "display_data"
    },
    {
     "data": {
      "text/markdown": [
       "Близкие документы:"
      ],
      "text/plain": [
       "<IPython.core.display.Markdown object>"
      ]
     },
     "metadata": {},
     "output_type": "display_data"
    },
    {
     "data": {
      "text/markdown": [
       "* [cos: 0.19][rel: 2] Одна такая акция имела место 30 июля 2010 года на Горьковском направлении МЖД в день запуска скоростного поезда «Сапсан» сообщением Москва — Нижний Новгород, одной из заявленных целей которой, помимо приветствия «Сапсана», являлся протест против отмены пригородных электричек, обусловленной ремонтом путей в преддверии запуска скоростного поезда)."
      ],
      "text/plain": [
       "<IPython.core.display.Markdown object>"
      ]
     },
     "metadata": {},
     "output_type": "display_data"
    },
    {
     "data": {
      "text/markdown": [
       "* [cos: 0.17][rel: 0] Глядя на них, художник думал о дорогах, по которым они прошли."
      ],
      "text/plain": [
       "<IPython.core.display.Markdown object>"
      ]
     },
     "metadata": {},
     "output_type": "display_data"
    },
    {
     "data": {
      "text/markdown": [
       "* [cos: 0.09][rel: 0] Впоследствии предстал в качестве обвиняемого перед американским трибуналом, рассматривавшим преступления в концлагеря Дора и проходившим с 7 августа по 30 декабря 1947 года."
      ],
      "text/plain": [
       "<IPython.core.display.Markdown object>"
      ]
     },
     "metadata": {},
     "output_type": "display_data"
    },
    {
     "data": {
      "text/markdown": [
       "* [cos: 0.08][rel: 0] Доктор исторических наук, помощник и секретарь   Ленина Владимир Бонч-Бруевич вспоминал, что первая встреча Ленина с ходоками продолжалась пять часов, а всего через общение с ним за несколько месяцев прошло более 6000 человек."
      ],
      "text/plain": [
       "<IPython.core.display.Markdown object>"
      ]
     },
     "metadata": {},
     "output_type": "display_data"
    },
    {
     "data": {
      "text/markdown": [
       "* [cos: 0.08][rel: 0] Транспортная полиция России задерживает зацеперов."
      ],
      "text/plain": [
       "<IPython.core.display.Markdown object>"
      ]
     },
     "metadata": {},
     "output_type": "display_data"
    },
    {
     "data": {
      "text/markdown": [
       "* [cos: 0.06][rel: 0] Размер действующего по состоянию на 2010-е годы в России штрафа за проезд снаружи поезда, предусмотренного частью 1 статьи 11."
      ],
      "text/plain": [
       "<IPython.core.display.Markdown object>"
      ]
     },
     "metadata": {},
     "output_type": "display_data"
    },
    {
     "data": {
      "text/markdown": [
       "* [cos: 0.06][rel: 0] Также в России с 2010 года участились случаи проезда снаружи поездов в метрополитенах, а в 2011 года зафиксирована попытка подобной поездки на скоростном поезде «Сапсан»."
      ],
      "text/plain": [
       "<IPython.core.display.Markdown object>"
      ]
     },
     "metadata": {},
     "output_type": "display_data"
    },
    {
     "data": {
      "text/markdown": [
       "* [cos: 0.06][rel: 0] Санкции в России  По состоянию на 2019 год в России проезд снаружи транспортных средств расценивается как административное правонарушение, санкции за которое различаются в зависимости от вида транспорта."
      ],
      "text/plain": [
       "<IPython.core.display.Markdown object>"
      ]
     },
     "metadata": {},
     "output_type": "display_data"
    },
    {
     "data": {
      "text/markdown": [
       "* [cos: 0.06][rel: 0] Также в связи с тем, что на ряде железных дорог среди трейнсёрферов время от времени могут появляться лица, которые при проезде занимаются вандализмом и наносят вред подвижному составу или создают помехи в движении поездов (например, рисуют граффити на лобовых стёклах кабин и корпусах поездов, ломают дворники и разбивают стёкла и фары, открывают концевые краны тормозной или напорной магистрали с целью экстренной остановки поезда без необходимости, опускают токоприёмники с целью обесточить поезд, бросают предметы в проходящие поезда и т.  д. ), ряд машинистов и железнодорожных любителей имеют резко негативное отношение ко всем пассажирам, проезжающим снаружи поездов, рассматривая каждого из них как потенциального вредителя."
      ],
      "text/plain": [
       "<IPython.core.display.Markdown object>"
      ]
     },
     "metadata": {},
     "output_type": "display_data"
    },
    {
     "data": {
      "text/markdown": [
       "* [cos: 0.05][rel: 0] В ряде стран, где существуют развитые сообщества трейнсёрферов, в том числе и в ряде регионов России, ими могут устраиваться массовые мероприятия по катанию снаружи поездов группами до нескольких десятков человек."
      ],
      "text/plain": [
       "<IPython.core.display.Markdown object>"
      ]
     },
     "metadata": {},
     "output_type": "display_data"
    }
   ],
   "source": [
    "printmd('## Без нормализации tf')\n",
    "print_results_for_document(similarity, facts_indexes[2])\n",
    "printmd('## С нормализацией tf')\n",
    "print_results_for_document(similarity_normed, facts_indexes[2])"
   ]
  },
  {
   "cell_type": "markdown",
   "metadata": {},
   "source": [
    "# Выдача языковой модели"
   ]
  },
  {
   "cell_type": "markdown",
   "metadata": {},
   "source": [
    "### λ = 0.5"
   ]
  },
  {
   "cell_type": "code",
   "execution_count": 34,
   "metadata": {},
   "outputs": [
    {
     "data": {
      "text/markdown": [
       "Факт: **Нацистский врач-эсэсовец, работавший в шести концлагерях, был дважды оправдан и выпущен на свободу.**"
      ],
      "text/plain": [
       "<IPython.core.display.Markdown object>"
      ]
     },
     "metadata": {},
     "output_type": "display_data"
    },
    {
     "data": {
      "text/markdown": [
       "Близкие документы:"
      ],
      "text/plain": [
       "<IPython.core.display.Markdown object>"
      ]
     },
     "metadata": {},
     "output_type": "display_data"
    },
    {
     "data": {
      "text/markdown": [
       "* [rel: 0][weight: 1.0159063785169552e-33] После начала Второй мировой войны работал в лазарете Ваффен С  С 1941 года служил врачом в концлагере Бухенвальд, в июне 1942 года был переведён в концлагерь Майданек."
      ],
      "text/plain": [
       "<IPython.core.display.Markdown object>"
      ]
     },
     "metadata": {},
     "output_type": "display_data"
    },
    {
     "data": {
      "text/markdown": [
       "* [rel: 0][weight: 2.0031541156274134e-35] В октябре 1943 года стал главным врачом в концлагере Гросс-Розен, а с сентября 1944 года служил в концлагере Дахау."
      ],
      "text/plain": [
       "<IPython.core.display.Markdown object>"
      ]
     },
     "metadata": {},
     "output_type": "display_data"
    },
    {
     "data": {
      "text/markdown": [
       "* [rel: 1][weight: 4.002837983791169e-36] Эрнст Генрих Шмидт (нем.  Ernst Heinrich Schmidt; 27 марта 1912, Альтенбург, Германская империя — 28 ноября 2000, Целле, Германия) — немецкий врач, гауптштурмфюрер СС, служивший в различных концлагерях."
      ],
      "text/plain": [
       "<IPython.core.display.Markdown object>"
      ]
     },
     "metadata": {},
     "output_type": "display_data"
    },
    {
     "data": {
      "text/markdown": [
       "* [rel: 2][weight: 2.5489422777731844e-36] В итоге он был оправдан."
      ],
      "text/plain": [
       "<IPython.core.display.Markdown object>"
      ]
     },
     "metadata": {},
     "output_type": "display_data"
    },
    {
     "data": {
      "text/markdown": [
       "* [rel: 0][weight: 4.792888886154851e-37] 1 УК РФ предусматривается значительное наказание — штраф от 150 до 300 тысяч рублей или лишение свободы сроком до 2 лет."
      ],
      "text/plain": [
       "<IPython.core.display.Markdown object>"
      ]
     },
     "metadata": {},
     "output_type": "display_data"
    },
    {
     "data": {
      "text/markdown": [
       "* [rel: 2][weight: 3.6557166943099614e-37] Из-за отсутствия доказательств 20 марта 1979 года Шмидт вновь был оправдан, а 19 апреля 1979 года освобождён."
      ],
      "text/plain": [
       "<IPython.core.display.Markdown object>"
      ]
     },
     "metadata": {},
     "output_type": "display_data"
    },
    {
     "data": {
      "text/markdown": [
       "* [rel: 0][weight: 3.2008478175720055e-37] Предметы, жесты и позы персонажей работают на главную идею произведения."
      ],
      "text/plain": [
       "<IPython.core.display.Markdown object>"
      ]
     },
     "metadata": {},
     "output_type": "display_data"
    },
    {
     "data": {
      "text/markdown": [
       "* [rel: 0][weight: 2.8470609134424843e-37] В 1950 году на Ленинградском фарфоровом заводе была выпущена декоративная ваза с росписью художника Валентина Сарлунда, в основе которой лежала картина Владимира Серова."
      ],
      "text/plain": [
       "<IPython.core.display.Markdown object>"
      ]
     },
     "metadata": {},
     "output_type": "display_data"
    },
    {
     "data": {
      "text/markdown": [
       "* [rel: 0][weight: 2.585436984338301e-37] С некоторых пор и в России они получили распространение и стали атрибутом не только кабинета врача или аптечки автомобилиста или врача скорой помощи, но и обычной домашней аптечки."
      ],
      "text/plain": [
       "<IPython.core.display.Markdown object>"
      ]
     },
     "metadata": {},
     "output_type": "display_data"
    },
    {
     "data": {
      "text/markdown": [
       "* [rel: 0][weight: 1.8362411873581376e-37] К 1950 году, уже много лет работая над образом   Ленина, художник тем не менее не получал полного удовлетворения от результатов своего труда."
      ],
      "text/plain": [
       "<IPython.core.display.Markdown object>"
      ]
     },
     "metadata": {},
     "output_type": "display_data"
    }
   ],
   "source": [
    "results_for_document_lang(facts_indexes[0], param=0.5)"
   ]
  },
  {
   "cell_type": "code",
   "execution_count": 35,
   "metadata": {},
   "outputs": [
    {
     "data": {
      "text/markdown": [
       "Факт: **Историк утверждает, что, прежде чем допустить крестьян на личный прием к вождю мирового пролетариата, их проводили через дезинфекционный пункт.**"
      ],
      "text/plain": [
       "<IPython.core.display.Markdown object>"
      ]
     },
     "metadata": {},
     "output_type": "display_data"
    },
    {
     "data": {
      "text/markdown": [
       "Близкие документы:"
      ],
      "text/plain": [
       "<IPython.core.display.Markdown object>"
      ]
     },
     "metadata": {},
     "output_type": "display_data"
    },
    {
     "data": {
      "text/markdown": [
       "* [rel: 2][weight: 2.308259647416315e-44] Например, Нина Тумаркин упоминала, что в Кремле был организован дезинфекционный пункт, через который пропускали посетителей председателя Совнаркома."
      ],
      "text/plain": [
       "<IPython.core.display.Markdown object>"
      ]
     },
     "metadata": {},
     "output_type": "display_data"
    },
    {
     "data": {
      "text/markdown": [
       "* [rel: 0][weight: 1.1377192768604638e-44] Советский, а после эмиграции — британский историк искусства Игорь Голомшток утверждал, что «обязательной принадлежностью колхозных клубов и сельсоветов было изображение типа „Ходоки у Ленина“  Серова»."
      ],
      "text/plain": [
       "<IPython.core.display.Markdown object>"
      ]
     },
     "metadata": {},
     "output_type": "display_data"
    },
    {
     "data": {
      "text/markdown": [
       "* [rel: 0][weight: 1.0224380243574459e-44] Сам Серов утверждал, что этот персонаж самовольно оставил окопы мировой войны, фронт стал для него настоящей революционной школой, к Ленину он пришёл, будучи избран для этой миссии своими земляками."
      ],
      "text/plain": [
       "<IPython.core.display.Markdown object>"
      ]
     },
     "metadata": {},
     "output_type": "display_data"
    },
    {
     "data": {
      "text/markdown": [
       "* [rel: 0][weight: 1.0090998277139538e-44] Крестьянин, затаив дыхание, «с надеждой и любовью безотрывно смотрит на вождя»."
      ],
      "text/plain": [
       "<IPython.core.display.Markdown object>"
      ]
     },
     "metadata": {},
     "output_type": "display_data"
    },
    {
     "data": {
      "text/markdown": [
       "* [rel: 0][weight: 5.622459851452476e-45] В своей версии сцены приёма ходоков Базелиц полностью удаляет фигуру Ленина, сосредочившись на тяжёлом положении крестьян."
      ],
      "text/plain": [
       "<IPython.core.display.Markdown object>"
      ]
     },
     "metadata": {},
     "output_type": "display_data"
    },
    {
     "data": {
      "text/markdown": [
       "* [rel: 0][weight: 4.223291255529763e-45] В этой обстановке в деревне возникали сложные проблемы, вызывавшие потребность личного общения крестьян с председателем рабоче-крестьянского правительства."
      ],
      "text/plain": [
       "<IPython.core.display.Markdown object>"
      ]
     },
     "metadata": {},
     "output_type": "display_data"
    },
    {
     "data": {
      "text/markdown": [
       "* [rel: 0][weight: 4.08590724836773e-45] Она утверждала, что «Ильич был особенно обходителен с крестьянами-ходоками» и «как-то особенно гостеприимно с ними здоровался при встрече»."
      ],
      "text/plain": [
       "<IPython.core.display.Markdown object>"
      ]
     },
     "metadata": {},
     "output_type": "display_data"
    },
    {
     "data": {
      "text/markdown": [
       "* [rel: 0][weight: 3.714881159537088e-45] После того, как   Калинин был избран председателем ВЦИКа, Владимир Ильич передал ему личное общение с крестьянами, так как «Михаил Иванович лучше других знает деревню и поэтому он спокоен за то, что каждое ходатайство крестьян будет рассмотрено подробно и хорошо»."
      ],
      "text/plain": [
       "<IPython.core.display.Markdown object>"
      ]
     },
     "metadata": {},
     "output_type": "display_data"
    },
    {
     "data": {
      "text/markdown": [
       "* [rel: 0][weight: 6.9931938278119076e-46] Кандидат искусствоведения Раиса Аболина считала, что художник в работе над образом Ленина отталкивался от цитаты из воспоминаний секретаря Совнаркома РСФСР и личного секретаря Ленина   Горбунова: «он садился против крестьянина так близко, что колени их соприкасались, ласково улыбаясь, нагибался немного вперёд, как бы прислушиваясь, и деловито выспрашивал, выпытывал, давал указания»."
      ],
      "text/plain": [
       "<IPython.core.display.Markdown object>"
      ]
     },
     "metadata": {},
     "output_type": "display_data"
    },
    {
     "data": {
      "text/markdown": [
       "* [rel: 0][weight: 6.602186872148526e-46] Художник реконструировал мельчайшие детали эпохи, но точность деталей и глубокая психологическая характеристика персонажей лишь оттеняли, с точки зрения официального искусствоведения того времени, «создание атмосферы волнующей сердечности отношений между Лениным и простыми крестьянами, глубокого чувства уважения вождя к этим, быть может, даже неграмотным людям»."
      ],
      "text/plain": [
       "<IPython.core.display.Markdown object>"
      ]
     },
     "metadata": {},
     "output_type": "display_data"
    }
   ],
   "source": [
    "results_for_document_lang(facts_indexes[1], param=0.5)"
   ]
  },
  {
   "cell_type": "code",
   "execution_count": 36,
   "metadata": {},
   "outputs": [
    {
     "data": {
      "text/markdown": [
       "Факт: **В России акции протеста проходят не только на площадях, но и на поездах.**"
      ],
      "text/plain": [
       "<IPython.core.display.Markdown object>"
      ]
     },
     "metadata": {},
     "output_type": "display_data"
    },
    {
     "data": {
      "text/markdown": [
       "Близкие документы:"
      ],
      "text/plain": [
       "<IPython.core.display.Markdown object>"
      ]
     },
     "metadata": {},
     "output_type": "display_data"
    },
    {
     "data": {
      "text/markdown": [
       "* [rel: 2][weight: 1.679243202723096e-16] Одна такая акция имела место 30 июля 2010 года на Горьковском направлении МЖД в день запуска скоростного поезда «Сапсан» сообщением Москва — Нижний Новгород, одной из заявленных целей которой, помимо приветствия «Сапсана», являлся протест против отмены пригородных электричек, обусловленной ремонтом путей в преддверии запуска скоростного поезда)."
      ],
      "text/plain": [
       "<IPython.core.display.Markdown object>"
      ]
     },
     "metadata": {},
     "output_type": "display_data"
    },
    {
     "data": {
      "text/markdown": [
       "* [rel: 0][weight: 9.509048757776938e-19] Глядя на них, художник думал о дорогах, по которым они прошли."
      ],
      "text/plain": [
       "<IPython.core.display.Markdown object>"
      ]
     },
     "metadata": {},
     "output_type": "display_data"
    },
    {
     "data": {
      "text/markdown": [
       "* [rel: 0][weight: 3.8242772862617177e-19] Также в связи с тем, что на ряде железных дорог среди трейнсёрферов время от времени могут появляться лица, которые при проезде занимаются вандализмом и наносят вред подвижному составу или создают помехи в движении поездов (например, рисуют граффити на лобовых стёклах кабин и корпусах поездов, ломают дворники и разбивают стёкла и фары, открывают концевые краны тормозной или напорной магистрали с целью экстренной остановки поезда без необходимости, опускают токоприёмники с целью обесточить поезд, бросают предметы в проходящие поезда и т.  д. ), ряд машинистов и железнодорожных любителей имеют резко негативное отношение ко всем пассажирам, проезжающим снаружи поездов, рассматривая каждого из них как потенциального вредителя."
      ],
      "text/plain": [
       "<IPython.core.display.Markdown object>"
      ]
     },
     "metadata": {},
     "output_type": "display_data"
    },
    {
     "data": {
      "text/markdown": [
       "* [rel: 0][weight: 3.376317166757783e-19] Впоследствии предстал в качестве обвиняемого перед американским трибуналом, рассматривавшим преступления в концлагеря Дора и проходившим с 7 августа по 30 декабря 1947 года."
      ],
      "text/plain": [
       "<IPython.core.display.Markdown object>"
      ]
     },
     "metadata": {},
     "output_type": "display_data"
    },
    {
     "data": {
      "text/markdown": [
       "* [rel: 0][weight: 3.173062461039435e-19] Также в России с 2010 года участились случаи проезда снаружи поездов в метрополитенах, а в 2011 года зафиксирована попытка подобной поездки на скоростном поезде «Сапсан»."
      ],
      "text/plain": [
       "<IPython.core.display.Markdown object>"
      ]
     },
     "metadata": {},
     "output_type": "display_data"
    },
    {
     "data": {
      "text/markdown": [
       "* [rel: 0][weight: 2.5036755174428044e-19] Доктор исторических наук, помощник и секретарь   Ленина Владимир Бонч-Бруевич вспоминал, что первая встреча Ленина с ходоками продолжалась пять часов, а всего через общение с ним за несколько месяцев прошло более 6000 человек."
      ],
      "text/plain": [
       "<IPython.core.display.Markdown object>"
      ]
     },
     "metadata": {},
     "output_type": "display_data"
    },
    {
     "data": {
      "text/markdown": [
       "* [rel: 0][weight: 2.4534491258132246e-19] Размер действующего по состоянию на 2010-е годы в России штрафа за проезд снаружи поезда, предусмотренного частью 1 статьи 11."
      ],
      "text/plain": [
       "<IPython.core.display.Markdown object>"
      ]
     },
     "metadata": {},
     "output_type": "display_data"
    },
    {
     "data": {
      "text/markdown": [
       "* [rel: 0][weight: 1.9617351932734994e-19] В Европе по состоянию на конец 2000-х — начало 2010-х годов проезд снаружи поездов наибольшее распространение получил в России в Московской и Ленинградской области и на Украине в Киевской области, в особенности на пригородных поездах."
      ],
      "text/plain": [
       "<IPython.core.display.Markdown object>"
      ]
     },
     "metadata": {},
     "output_type": "display_data"
    },
    {
     "data": {
      "text/markdown": [
       "* [rel: 0][weight: 1.8082892031449313e-19] Транспортная полиция России задерживает зацеперов."
      ],
      "text/plain": [
       "<IPython.core.display.Markdown object>"
      ]
     },
     "metadata": {},
     "output_type": "display_data"
    },
    {
     "data": {
      "text/markdown": [
       "* [rel: 0][weight: 1.5560614068520869e-19] В ряде стран, где существуют развитые сообщества трейнсёрферов, в том числе и в ряде регионов России, ими могут устраиваться массовые мероприятия по катанию снаружи поездов группами до нескольких десятков человек."
      ],
      "text/plain": [
       "<IPython.core.display.Markdown object>"
      ]
     },
     "metadata": {},
     "output_type": "display_data"
    }
   ],
   "source": [
    "results_for_document_lang(facts_indexes[2], param=0.5)"
   ]
  },
  {
   "cell_type": "markdown",
   "metadata": {},
   "source": [
    "### λ = 0.9"
   ]
  },
  {
   "cell_type": "code",
   "execution_count": 37,
   "metadata": {},
   "outputs": [
    {
     "data": {
      "text/markdown": [
       "Факт: **Нацистский врач-эсэсовец, работавший в шести концлагерях, был дважды оправдан и выпущен на свободу.**"
      ],
      "text/plain": [
       "<IPython.core.display.Markdown object>"
      ]
     },
     "metadata": {},
     "output_type": "display_data"
    },
    {
     "data": {
      "text/markdown": [
       "Близкие документы:"
      ],
      "text/plain": [
       "<IPython.core.display.Markdown object>"
      ]
     },
     "metadata": {},
     "output_type": "display_data"
    },
    {
     "data": {
      "text/markdown": [
       "* [rel: 0][weight: 7.343411289791066e-38] После начала Второй мировой войны работал в лазарете Ваффен С  С 1941 года служил врачом в концлагере Бухенвальд, в июне 1942 года был переведён в концлагерь Майданек."
      ],
      "text/plain": [
       "<IPython.core.display.Markdown object>"
      ]
     },
     "metadata": {},
     "output_type": "display_data"
    },
    {
     "data": {
      "text/markdown": [
       "* [rel: 0][weight: 1.6339333414426831e-40] В октябре 1943 года стал главным врачом в концлагере Гросс-Розен, а с сентября 1944 года служил в концлагере Дахау."
      ],
      "text/plain": [
       "<IPython.core.display.Markdown object>"
      ]
     },
     "metadata": {},
     "output_type": "display_data"
    },
    {
     "data": {
      "text/markdown": [
       "* [rel: 1][weight: 3.199499345913262e-41] Эрнст Генрих Шмидт (нем.  Ernst Heinrich Schmidt; 27 марта 1912, Альтенбург, Германская империя — 28 ноября 2000, Целле, Германия) — немецкий врач, гауптштурмфюрер СС, служивший в различных концлагерях."
      ],
      "text/plain": [
       "<IPython.core.display.Markdown object>"
      ]
     },
     "metadata": {},
     "output_type": "display_data"
    },
    {
     "data": {
      "text/markdown": [
       "* [rel: 2][weight: 2.347731758656877e-42] В итоге он был оправдан."
      ],
      "text/plain": [
       "<IPython.core.display.Markdown object>"
      ]
     },
     "metadata": {},
     "output_type": "display_data"
    },
    {
     "data": {
      "text/markdown": [
       "* [rel: 0][weight: 4.403391952091451e-43] 1 УК РФ предусматривается значительное наказание — штраф от 150 до 300 тысяч рублей или лишение свободы сроком до 2 лет."
      ],
      "text/plain": [
       "<IPython.core.display.Markdown object>"
      ]
     },
     "metadata": {},
     "output_type": "display_data"
    },
    {
     "data": {
      "text/markdown": [
       "* [rel: 2][weight: 3.355374060087201e-43] Из-за отсутствия доказательств 20 марта 1979 года Шмидт вновь был оправдан, а 19 апреля 1979 года освобождён."
      ],
      "text/plain": [
       "<IPython.core.display.Markdown object>"
      ]
     },
     "metadata": {},
     "output_type": "display_data"
    },
    {
     "data": {
      "text/markdown": [
       "* [rel: 0][weight: 2.936166903285502e-43] Предметы, жесты и позы персонажей работают на главную идею произведения."
      ],
      "text/plain": [
       "<IPython.core.display.Markdown object>"
      ]
     },
     "metadata": {},
     "output_type": "display_data"
    },
    {
     "data": {
      "text/markdown": [
       "* [rel: 0][weight: 2.6101168924397356e-43] В 1950 году на Ленинградском фарфоровом заводе была выпущена декоративная ваза с росписью художника Валентина Сарлунда, в основе которой лежала картина Владимира Серова."
      ],
      "text/plain": [
       "<IPython.core.display.Markdown object>"
      ]
     },
     "metadata": {},
     "output_type": "display_data"
    },
    {
     "data": {
      "text/markdown": [
       "* [rel: 0][weight: 2.3690042793773206e-43] С некоторых пор и в России они получили распространение и стали атрибутом не только кабинета врача или аптечки автомобилиста или врача скорой помощи, но и обычной домашней аптечки."
      ],
      "text/plain": [
       "<IPython.core.display.Markdown object>"
      ]
     },
     "metadata": {},
     "output_type": "display_data"
    },
    {
     "data": {
      "text/markdown": [
       "* [rel: 0][weight: 1.6785454328804036e-43] К 1950 году, уже много лет работая над образом   Ленина, художник тем не менее не получал полного удовлетворения от результатов своего труда."
      ],
      "text/plain": [
       "<IPython.core.display.Markdown object>"
      ]
     },
     "metadata": {},
     "output_type": "display_data"
    }
   ],
   "source": [
    "results_for_document_lang(facts_indexes[0], param=0.9)"
   ]
  },
  {
   "cell_type": "code",
   "execution_count": 38,
   "metadata": {},
   "outputs": [
    {
     "data": {
      "text/markdown": [
       "Факт: **Историк утверждает, что, прежде чем допустить крестьян на личный прием к вождю мирового пролетариата, их проводили через дезинфекционный пункт.**"
      ],
      "text/plain": [
       "<IPython.core.display.Markdown object>"
      ]
     },
     "metadata": {},
     "output_type": "display_data"
    },
    {
     "data": {
      "text/markdown": [
       "Близкие документы:"
      ],
      "text/plain": [
       "<IPython.core.display.Markdown object>"
      ]
     },
     "metadata": {},
     "output_type": "display_data"
    },
    {
     "data": {
      "text/markdown": [
       "* [rel: 2][weight: 1.5105336232626658e-51] Например, Нина Тумаркин упоминала, что в Кремле был организован дезинфекционный пункт, через который пропускали посетителей председателя Совнаркома."
      ],
      "text/plain": [
       "<IPython.core.display.Markdown object>"
      ]
     },
     "metadata": {},
     "output_type": "display_data"
    },
    {
     "data": {
      "text/markdown": [
       "* [rel: 0][weight: 7.393146043819303e-52] Советский, а после эмиграции — британский историк искусства Игорь Голомшток утверждал, что «обязательной принадлежностью колхозных клубов и сельсоветов было изображение типа „Ходоки у Ленина“  Серова»."
      ],
      "text/plain": [
       "<IPython.core.display.Markdown object>"
      ]
     },
     "metadata": {},
     "output_type": "display_data"
    },
    {
     "data": {
      "text/markdown": [
       "* [rel: 0][weight: 6.636368900948512e-52] Сам Серов утверждал, что этот персонаж самовольно оставил окопы мировой войны, фронт стал для него настоящей революционной школой, к Ленину он пришёл, будучи избран для этой миссии своими земляками."
      ],
      "text/plain": [
       "<IPython.core.display.Markdown object>"
      ]
     },
     "metadata": {},
     "output_type": "display_data"
    },
    {
     "data": {
      "text/markdown": [
       "* [rel: 0][weight: 6.483443753437502e-52] Крестьянин, затаив дыхание, «с надеждой и любовью безотрывно смотрит на вождя»."
      ],
      "text/plain": [
       "<IPython.core.display.Markdown object>"
      ]
     },
     "metadata": {},
     "output_type": "display_data"
    },
    {
     "data": {
      "text/markdown": [
       "* [rel: 0][weight: 3.538004032187284e-52] В своей версии сцены приёма ходоков Базелиц полностью удаляет фигуру Ленина, сосредочившись на тяжёлом положении крестьян."
      ],
      "text/plain": [
       "<IPython.core.display.Markdown object>"
      ]
     },
     "metadata": {},
     "output_type": "display_data"
    },
    {
     "data": {
      "text/markdown": [
       "* [rel: 0][weight: 2.6539555866034655e-52] В этой обстановке в деревне возникали сложные проблемы, вызывавшие потребность личного общения крестьян с председателем рабоче-крестьянского правительства."
      ],
      "text/plain": [
       "<IPython.core.display.Markdown object>"
      ]
     },
     "metadata": {},
     "output_type": "display_data"
    },
    {
     "data": {
      "text/markdown": [
       "* [rel: 0][weight: 2.596973105922806e-52] Она утверждала, что «Ильич был особенно обходителен с крестьянами-ходоками» и «как-то особенно гостеприимно с ними здоровался при встрече»."
      ],
      "text/plain": [
       "<IPython.core.display.Markdown object>"
      ]
     },
     "metadata": {},
     "output_type": "display_data"
    },
    {
     "data": {
      "text/markdown": [
       "* [rel: 0][weight: 2.3561746792649075e-52] После того, как   Калинин был избран председателем ВЦИКа, Владимир Ильич передал ему личное общение с крестьянами, так как «Михаил Иванович лучше других знает деревню и поэтому он спокоен за то, что каждое ходатайство крестьян будет рассмотрено подробно и хорошо»."
      ],
      "text/plain": [
       "<IPython.core.display.Markdown object>"
      ]
     },
     "metadata": {},
     "output_type": "display_data"
    },
    {
     "data": {
      "text/markdown": [
       "* [rel: 0][weight: 4.057614900407718e-53] Кандидат искусствоведения Раиса Аболина считала, что художник в работе над образом Ленина отталкивался от цитаты из воспоминаний секретаря Совнаркома РСФСР и личного секретаря Ленина   Горбунова: «он садился против крестьянина так близко, что колени их соприкасались, ласково улыбаясь, нагибался немного вперёд, как бы прислушиваясь, и деловито выспрашивал, выпытывал, давал указания»."
      ],
      "text/plain": [
       "<IPython.core.display.Markdown object>"
      ]
     },
     "metadata": {},
     "output_type": "display_data"
    },
    {
     "data": {
      "text/markdown": [
       "* [rel: 0][weight: 3.858960375624142e-53] Художник реконструировал мельчайшие детали эпохи, но точность деталей и глубокая психологическая характеристика персонажей лишь оттеняли, с точки зрения официального искусствоведения того времени, «создание атмосферы волнующей сердечности отношений между Лениным и простыми крестьянами, глубокого чувства уважения вождя к этим, быть может, даже неграмотным людям»."
      ],
      "text/plain": [
       "<IPython.core.display.Markdown object>"
      ]
     },
     "metadata": {},
     "output_type": "display_data"
    }
   ],
   "source": [
    "results_for_document_lang(facts_indexes[1], param=0.9)"
   ]
  },
  {
   "cell_type": "code",
   "execution_count": 39,
   "metadata": {},
   "outputs": [
    {
     "data": {
      "text/markdown": [
       "Факт: **В России акции протеста проходят не только на площадях, но и на поездах.**"
      ],
      "text/plain": [
       "<IPython.core.display.Markdown object>"
      ]
     },
     "metadata": {},
     "output_type": "display_data"
    },
    {
     "data": {
      "text/markdown": [
       "Близкие документы:"
      ],
      "text/plain": [
       "<IPython.core.display.Markdown object>"
      ]
     },
     "metadata": {},
     "output_type": "display_data"
    },
    {
     "data": {
      "text/markdown": [
       "* [rel: 2][weight: 5.855416941471649e-18] Одна такая акция имела место 30 июля 2010 года на Горьковском направлении МЖД в день запуска скоростного поезда «Сапсан» сообщением Москва — Нижний Новгород, одной из заявленных целей которой, помимо приветствия «Сапсана», являлся протест против отмены пригородных электричек, обусловленной ремонтом путей в преддверии запуска скоростного поезда)."
      ],
      "text/plain": [
       "<IPython.core.display.Markdown object>"
      ]
     },
     "metadata": {},
     "output_type": "display_data"
    },
    {
     "data": {
      "text/markdown": [
       "* [rel: 0][weight: 1.5691826802638483e-21] Также в связи с тем, что на ряде железных дорог среди трейнсёрферов время от времени могут появляться лица, которые при проезде занимаются вандализмом и наносят вред подвижному составу или создают помехи в движении поездов (например, рисуют граффити на лобовых стёклах кабин и корпусах поездов, ломают дворники и разбивают стёкла и фары, открывают концевые краны тормозной или напорной магистрали с целью экстренной остановки поезда без необходимости, опускают токоприёмники с целью обесточить поезд, бросают предметы в проходящие поезда и т.  д. ), ряд машинистов и железнодорожных любителей имеют резко негативное отношение ко всем пассажирам, проезжающим снаружи поездов, рассматривая каждого из них как потенциального вредителя."
      ],
      "text/plain": [
       "<IPython.core.display.Markdown object>"
      ]
     },
     "metadata": {},
     "output_type": "display_data"
    },
    {
     "data": {
      "text/markdown": [
       "* [rel: 0][weight: 1.3364002596229434e-21] Также в России с 2010 года участились случаи проезда снаружи поездов в метрополитенах, а в 2011 года зафиксирована попытка подобной поездки на скоростном поезде «Сапсан»."
      ],
      "text/plain": [
       "<IPython.core.display.Markdown object>"
      ]
     },
     "metadata": {},
     "output_type": "display_data"
    },
    {
     "data": {
      "text/markdown": [
       "* [rel: 0][weight: 9.54248278002142e-22] Размер действующего по состоянию на 2010-е годы в России штрафа за проезд снаружи поезда, предусмотренного частью 1 статьи 11."
      ],
      "text/plain": [
       "<IPython.core.display.Markdown object>"
      ]
     },
     "metadata": {},
     "output_type": "display_data"
    },
    {
     "data": {
      "text/markdown": [
       "* [rel: 0][weight: 7.786591498983894e-22] В Европе по состоянию на конец 2000-х — начало 2010-х годов проезд снаружи поездов наибольшее распространение получил в России в Московской и Ленинградской области и на Украине в Киевской области, в особенности на пригородных поездах."
      ],
      "text/plain": [
       "<IPython.core.display.Markdown object>"
      ]
     },
     "metadata": {},
     "output_type": "display_data"
    },
    {
     "data": {
      "text/markdown": [
       "* [rel: 0][weight: 5.608639217533977e-22] В ряде стран, где существуют развитые сообщества трейнсёрферов, в том числе и в ряде регионов России, ими могут устраиваться массовые мероприятия по катанию снаружи поездов группами до нескольких десятков человек."
      ],
      "text/plain": [
       "<IPython.core.display.Markdown object>"
      ]
     },
     "metadata": {},
     "output_type": "display_data"
    },
    {
     "data": {
      "text/markdown": [
       "* [rel: 0][weight: 5.461242372155056e-22] Глядя на них, художник думал о дорогах, по которым они прошли."
      ],
      "text/plain": [
       "<IPython.core.display.Markdown object>"
      ]
     },
     "metadata": {},
     "output_type": "display_data"
    },
    {
     "data": {
      "text/markdown": [
       "* [rel: 0][weight: 5.108197881271551e-22] в России ежегодно происходит несколько десятков случаев травмирования и гибели проезжающих снаружи поездов людей: например, на территории Москвы и Московской области за первые 10 месяцев 2012 года при проезде снаружи поездов погибли 6 и серьёзно пострадали 8 несовершеннолетних."
      ],
      "text/plain": [
       "<IPython.core.display.Markdown object>"
      ]
     },
     "metadata": {},
     "output_type": "display_data"
    },
    {
     "data": {
      "text/markdown": [
       "* [rel: 0][weight: 4.890912589472588e-22] В СССР развитию этого явления на пригородных поездах способствовала произошедшая в 1980-х исключение проводников, ездивших в задних кабинах электро- и дизель-поездов, из состава поездной бригады, отсутствие планирования МПС увеличение количества вагонов в поезде на праздничные дни, а также нестабильная ситуация в России и ряде постсоветских стран в эпоху 90-х. В середине 2000-х в России на Московской и Октябрьской железных дорогах обострилась проблема переполненности пригородных электропоездов, сопряжённая с нехваткой их рейсов."
      ],
      "text/plain": [
       "<IPython.core.display.Markdown object>"
      ]
     },
     "metadata": {},
     "output_type": "display_data"
    },
    {
     "data": {
      "text/markdown": [
       "* [rel: 0][weight: 4.800831917551839e-22] В России после возникновения практики проезда между вагонами скоростных поездов «Сапсан» руководство Российских железных дорог вело переговоры с производителем о возможности ликвидации технических отверстий в корпусе поезда для предотвращения закрепления трейнсёрферов на нём и установило в них болты-заглушки, однако данная мера оказалась неэффективной."
      ],
      "text/plain": [
       "<IPython.core.display.Markdown object>"
      ]
     },
     "metadata": {},
     "output_type": "display_data"
    }
   ],
   "source": [
    "results_for_document_lang(facts_indexes[2], param=0.9)"
   ]
  },
  {
   "cell_type": "markdown",
   "metadata": {},
   "source": [
    "### Вычиcление NDCG"
   ]
  },
  {
   "cell_type": "code",
   "execution_count": 40,
   "metadata": {},
   "outputs": [],
   "source": [
    "def dcg(relevance):\n",
    "    return np.sum(np.array([r / np.log2(i + 1) for i, r in enumerate(relevance, 1)]))"
   ]
  },
  {
   "cell_type": "code",
   "execution_count": 41,
   "metadata": {},
   "outputs": [],
   "source": [
    "# fact 1\n",
    "vec_wo_norm = dcg([2, 0, 0, 0, 0, 0, 1, 0, 2, 0])\n",
    "vec_w_norm = dcg([2, 0, 0, 0, 0, 1, 2, 0, 0, 0])\n",
    "language = dcg([0, 0, 1, 2, 0, 2, 0, 0, 0, 0])\n",
    "\n",
    "ideal = dcg([2, 2, 1, 0, 0, 0, 0, 0, 0, 0])"
   ]
  },
  {
   "cell_type": "code",
   "execution_count": 42,
   "metadata": {},
   "outputs": [
    {
     "name": "stdout",
     "output_type": "stream",
     "text": [
      "NDCG for fact #1\n",
      "0.7803038149318581 0.8035584125443652 0.5512612808705956\n"
     ]
    }
   ],
   "source": [
    "print('NDCG for fact #1')\n",
    "print(vec_wo_norm / ideal, vec_w_norm / ideal, language / ideal)"
   ]
  },
  {
   "cell_type": "code",
   "execution_count": 43,
   "metadata": {},
   "outputs": [],
   "source": [
    "# fact 2 and 3 have equal search results for all models"
   ]
  },
  {
   "cell_type": "code",
   "execution_count": 44,
   "metadata": {},
   "outputs": [],
   "source": [
    "vec_wo_norm = dcg([2, 0, 0, 0, 0, 0, 0, 0, 0, 0])\n",
    "vec_w_norm = dcg([2, 0, 0, 0, 0, 0, 0, 0, 0, 0])\n",
    "language = dcg([2, 0, 0, 0, 0, 0, 0, 0, 0, 0])\n",
    "\n",
    "ideal = dcg([2, 0, 0, 0, 0, 0, 0, 0, 0, 0])"
   ]
  },
  {
   "cell_type": "code",
   "execution_count": 45,
   "metadata": {},
   "outputs": [
    {
     "name": "stdout",
     "output_type": "stream",
     "text": [
      "NDCG for fact #2\n",
      "1.0 1.0 1.0\n"
     ]
    }
   ],
   "source": [
    "print('NDCG for fact #2')\n",
    "print(vec_wo_norm / ideal, vec_w_norm / ideal, language / ideal)"
   ]
  }
 ],
 "metadata": {
  "kernelspec": {
   "display_name": "Python 3",
   "language": "python",
   "name": "python3"
  },
  "language_info": {
   "codemirror_mode": {
    "name": "ipython",
    "version": 3
   },
   "file_extension": ".py",
   "mimetype": "text/x-python",
   "name": "python",
   "nbconvert_exporter": "python",
   "pygments_lexer": "ipython3",
   "version": "3.9.0"
  }
 },
 "nbformat": 4,
 "nbformat_minor": 4
}
