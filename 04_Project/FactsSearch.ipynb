{
 "cells": [
  {
   "cell_type": "code",
   "execution_count": 1,
   "metadata": {},
   "outputs": [
    {
     "name": "stderr",
     "output_type": "stream",
     "text": [
      "[nltk_data] Downloading package punkt to\n",
      "[nltk_data]     /Users/a.tsigankov/nltk_data...\n",
      "[nltk_data]   Package punkt is already up-to-date!\n"
     ]
    },
    {
     "data": {
      "text/plain": [
       "True"
      ]
     },
     "execution_count": 1,
     "metadata": {},
     "output_type": "execute_result"
    }
   ],
   "source": [
    "import wikipedia\n",
    "import nltk\n",
    "import re\n",
    "from pymystem3 import Mystem\n",
    "from collections import Counter\n",
    "import numpy as np\n",
    "import pandas as pd\n",
    "from sklearn.feature_extraction.text import TfidfTransformer, TfidfVectorizer\n",
    "from sklearn.feature_extraction.text import CountVectorizer\n",
    "from sklearn.neighbors import NearestNeighbors\n",
    "nltk.download('punkt')"
   ]
  },
  {
   "cell_type": "code",
   "execution_count": 2,
   "metadata": {},
   "outputs": [],
   "source": [
    "# for pretty output\n",
    "from IPython.display import Markdown, display\n",
    "def printmd(string):\n",
    "    display(Markdown(string))"
   ]
  },
  {
   "cell_type": "code",
   "execution_count": 3,
   "metadata": {},
   "outputs": [],
   "source": [
    "pd.set_option('max_colwidth', 80)\n",
    "wikipedia.set_lang('ru')\n",
    "tokenizer = nltk.RegexpTokenizer(r\"\\w+\")\n",
    "mystem = Mystem()"
   ]
  },
  {
   "cell_type": "markdown",
   "metadata": {},
   "source": [
    "Факты"
   ]
  },
  {
   "cell_type": "code",
   "execution_count": 4,
   "metadata": {},
   "outputs": [],
   "source": [
    "facts = [\n",
    "    \"Нацистский врач-эсэсовец, работавший в шести концлагерях, был дважды оправдан и выпущен на свободу.\",\n",
    "    \"Историк утверждает, что, прежде чем допустить крестьян на личный прием к вождю мирового пролетариата, их тщательно дезинфицировали.\",\n",
    "    \"В России акции протеста проходят не только на площадях, но и на поездах.\"\n",
    "]"
   ]
  },
  {
   "cell_type": "markdown",
   "metadata": {},
   "source": [
    "Название статей Википедии, на которые ссылаются факты"
   ]
  },
  {
   "cell_type": "code",
   "execution_count": 5,
   "metadata": {},
   "outputs": [],
   "source": [
    "wikipedia_pages = {\n",
    "    1: [\"Шмидт, Генрих (врач)\"],\n",
    "    2: [\"Ходоки у В. И. Ленина\", \"Дезинфекция\"],\n",
    "    3: [\"Проезд снаружи поездов\"]\n",
    "}"
   ]
  },
  {
   "cell_type": "markdown",
   "metadata": {},
   "source": [
    "### Скачивание и обработка статей из Википедии"
   ]
  },
  {
   "cell_type": "code",
   "execution_count": 6,
   "metadata": {},
   "outputs": [],
   "source": [
    "def get_page_text(pagename):\n",
    "    page = wikipedia.page(pagename)\n",
    "    return page.content"
   ]
  },
  {
   "cell_type": "code",
   "execution_count": 7,
   "metadata": {},
   "outputs": [],
   "source": [
    "def remove_trash(page_text):\n",
    "    page_text = re.sub('\\s', ' ', page_text)\n",
    "    page_text = re.sub('[А-Я]\\.', '', page_text)\n",
    "    page_text = re.sub(r'\\=\\= Примечания[\\w\\s\\=]*', '', page_text)\n",
    "    page_text = page_text.replace('.', '. ')\n",
    "    page_text = page_text.replace('\\n', ' ')\n",
    "    headers = re.findall(r\"\\=\\=.*?\\=\\=\", page_text)\n",
    "    for header in headers:\n",
    "        page_text = page_text.replace(header, '')\n",
    "    \n",
    "    return page_text"
   ]
  },
  {
   "cell_type": "code",
   "execution_count": 8,
   "metadata": {},
   "outputs": [],
   "source": [
    "documents = []\n",
    "\n",
    "for num in wikipedia_pages.keys():\n",
    "    for page in wikipedia_pages[num]:\n",
    "        page_text = remove_trash(get_page_text(page))\n",
    "        sentences = nltk.sent_tokenize(page_text, language=\"russian\")\n",
    "        documents.extend(sentences)"
   ]
  },
  {
   "cell_type": "code",
   "execution_count": 9,
   "metadata": {},
   "outputs": [],
   "source": [
    "# добавление фактов\n",
    "documents.extend(facts)"
   ]
  },
  {
   "cell_type": "code",
   "execution_count": 10,
   "metadata": {},
   "outputs": [],
   "source": [
    "wiki = pd.DataFrame(documents)"
   ]
  },
  {
   "cell_type": "code",
   "execution_count": 11,
   "metadata": {},
   "outputs": [],
   "source": [
    "wiki.columns = ['document']"
   ]
  },
  {
   "cell_type": "code",
   "execution_count": 12,
   "metadata": {},
   "outputs": [
    {
     "data": {
      "text/html": [
       "<div>\n",
       "<style scoped>\n",
       "    .dataframe tbody tr th:only-of-type {\n",
       "        vertical-align: middle;\n",
       "    }\n",
       "\n",
       "    .dataframe tbody tr th {\n",
       "        vertical-align: top;\n",
       "    }\n",
       "\n",
       "    .dataframe thead th {\n",
       "        text-align: right;\n",
       "    }\n",
       "</style>\n",
       "<table border=\"1\" class=\"dataframe\">\n",
       "  <thead>\n",
       "    <tr style=\"text-align: right;\">\n",
       "      <th></th>\n",
       "      <th>document</th>\n",
       "    </tr>\n",
       "  </thead>\n",
       "  <tbody>\n",
       "    <tr>\n",
       "      <th>0</th>\n",
       "      <td>Эрнст Генрих Шмидт (нем.  Ernst Heinrich Schmidt; 27 марта 1912, Альтенбург,...</td>\n",
       "    </tr>\n",
       "    <tr>\n",
       "      <th>1</th>\n",
       "      <td>Генрих Шмидт родился 27 марта 1912 года в Альтенбурге.</td>\n",
       "    </tr>\n",
       "    <tr>\n",
       "      <th>2</th>\n",
       "      <td>В 1933 году был зачислен в СС (№ 23 069).</td>\n",
       "    </tr>\n",
       "    <tr>\n",
       "      <th>3</th>\n",
       "      <td>В 1937 году получил степень доктора медицинских наук в Лейпцигском университ...</td>\n",
       "    </tr>\n",
       "    <tr>\n",
       "      <th>4</th>\n",
       "      <td>После начала Второй мировой войны работал в лазарете Ваффен С  С 1941 года с...</td>\n",
       "    </tr>\n",
       "  </tbody>\n",
       "</table>\n",
       "</div>"
      ],
      "text/plain": [
       "                                                                          document\n",
       "0  Эрнст Генрих Шмидт (нем.  Ernst Heinrich Schmidt; 27 марта 1912, Альтенбург,...\n",
       "1                           Генрих Шмидт родился 27 марта 1912 года в Альтенбурге.\n",
       "2                                        В 1933 году был зачислен в СС (№ 23 069).\n",
       "3  В 1937 году получил степень доктора медицинских наук в Лейпцигском университ...\n",
       "4  После начала Второй мировой войны работал в лазарете Ваффен С  С 1941 года с..."
      ]
     },
     "execution_count": 12,
     "metadata": {},
     "output_type": "execute_result"
    }
   ],
   "source": [
    "wiki.head()"
   ]
  },
  {
   "cell_type": "markdown",
   "metadata": {},
   "source": [
    "### Лемматизация "
   ]
  },
  {
   "cell_type": "code",
   "execution_count": 13,
   "metadata": {},
   "outputs": [],
   "source": [
    "def lemmatize(sentence):\n",
    "    return ''.join((mystem.lemmatize(' '.join(tokenizer.tokenize(sentence))))).replace('\\n', '')"
   ]
  },
  {
   "cell_type": "code",
   "execution_count": 14,
   "metadata": {},
   "outputs": [],
   "source": [
    "wiki['lemmatized_document'] = wiki.document.apply(lemmatize)"
   ]
  },
  {
   "cell_type": "code",
   "execution_count": 15,
   "metadata": {},
   "outputs": [
    {
     "data": {
      "text/html": [
       "<div>\n",
       "<style scoped>\n",
       "    .dataframe tbody tr th:only-of-type {\n",
       "        vertical-align: middle;\n",
       "    }\n",
       "\n",
       "    .dataframe tbody tr th {\n",
       "        vertical-align: top;\n",
       "    }\n",
       "\n",
       "    .dataframe thead th {\n",
       "        text-align: right;\n",
       "    }\n",
       "</style>\n",
       "<table border=\"1\" class=\"dataframe\">\n",
       "  <thead>\n",
       "    <tr style=\"text-align: right;\">\n",
       "      <th></th>\n",
       "      <th>document</th>\n",
       "      <th>lemmatized_document</th>\n",
       "    </tr>\n",
       "  </thead>\n",
       "  <tbody>\n",
       "    <tr>\n",
       "      <th>561</th>\n",
       "      <td>Дата обращения 7 декабря 2012.</td>\n",
       "      <td>дата обращение 7 декабрь 2012</td>\n",
       "    </tr>\n",
       "    <tr>\n",
       "      <th>562</th>\n",
       "      <td>Архивировано 27 декабря 2012 года.</td>\n",
       "      <td>архивировать 27 декабрь 2012 год</td>\n",
       "    </tr>\n",
       "    <tr>\n",
       "      <th>563</th>\n",
       "      <td>Нацистский врач-эсэсовец, работавший в шести концлагерях, был дважды оправда...</td>\n",
       "      <td>нацистский врач эсэсовец работать в шесть концлагерь быть дважды оправдывать...</td>\n",
       "    </tr>\n",
       "    <tr>\n",
       "      <th>564</th>\n",
       "      <td>Историк утверждает, что, прежде чем допустить крестьян на личный прием к вож...</td>\n",
       "      <td>историк утверждать что прежде чем допускать крестьянин на личный прием к вож...</td>\n",
       "    </tr>\n",
       "    <tr>\n",
       "      <th>565</th>\n",
       "      <td>В России акции протеста проходят не только на площадях, но и на поездах.</td>\n",
       "      <td>в россия акция протест проходить не только на площадь но и на поезд</td>\n",
       "    </tr>\n",
       "  </tbody>\n",
       "</table>\n",
       "</div>"
      ],
      "text/plain": [
       "                                                                            document  \\\n",
       "561                                                   Дата обращения 7 декабря 2012.   \n",
       "562                                               Архивировано 27 декабря 2012 года.   \n",
       "563  Нацистский врач-эсэсовец, работавший в шести концлагерях, был дважды оправда...   \n",
       "564  Историк утверждает, что, прежде чем допустить крестьян на личный прием к вож...   \n",
       "565         В России акции протеста проходят не только на площадях, но и на поездах.   \n",
       "\n",
       "                                                                 lemmatized_document  \n",
       "561                                                    дата обращение 7 декабрь 2012  \n",
       "562                                                 архивировать 27 декабрь 2012 год  \n",
       "563  нацистский врач эсэсовец работать в шесть концлагерь быть дважды оправдывать...  \n",
       "564  историк утверждать что прежде чем допускать крестьянин на личный прием к вож...  \n",
       "565              в россия акция протест проходить не только на площадь но и на поезд  "
      ]
     },
     "execution_count": 15,
     "metadata": {},
     "output_type": "execute_result"
    }
   ],
   "source": [
    "wiki.tail()"
   ]
  },
  {
   "cell_type": "code",
   "execution_count": 16,
   "metadata": {},
   "outputs": [],
   "source": [
    "def tf_idf_vectorizer(corpus):\n",
    "    \n",
    "    tf = []\n",
    "    \n",
    "    vocabulary = np.unique([word for word in ' '.join(corpus).split(' ') if len(word) != 0])\n",
    "    \n",
    "    corpus_length = len(corpus)\n",
    "    vocabulary_length = len(vocabulary)\n",
    "    \n",
    "    def idf_computing(df):\n",
    "        return np.log10(corpus_length / df)\n",
    "\n",
    "    vectorized_idf = np.vectorize(idf_computing)\n",
    "    \n",
    "    inverse_vocabulary = {v: k for k, v in dict(enumerate(vocabulary)).items()}\n",
    "    \n",
    "    df = np.zeros(vocabulary_length, dtype=int)\n",
    "    \n",
    "    for document in corpus:\n",
    "        document_vector = np.zeros(vocabulary_length, dtype=int)\n",
    "        for word in document.split(' '):\n",
    "            if word != '':\n",
    "                document_vector[inverse_vocabulary[word]] += 1\n",
    "                \n",
    "        for word in np.unique(document.split(' ')):\n",
    "            if word != '':\n",
    "                df[inverse_vocabulary[word]] += 1\n",
    "        \n",
    "        tf.append(document_vector)\n",
    "        \n",
    "    idf = vectorized_idf(df)\n",
    "    \n",
    "    tf = [tf_elem * idf for tf_elem in tf]\n",
    "    \n",
    "    tf = np.stack( tfidf_weight, axis=0 )\n",
    "    \n",
    "    return tf"
   ]
  },
  {
   "cell_type": "code",
   "execution_count": 18,
   "metadata": {},
   "outputs": [
    {
     "ename": "NameError",
     "evalue": "name 'tfidf_weight' is not defined",
     "output_type": "error",
     "traceback": [
      "\u001b[0;31m---------------------------------------------------------------------------\u001b[0m",
      "\u001b[0;31mNameError\u001b[0m                                 Traceback (most recent call last)",
      "\u001b[0;32m<ipython-input-18-a5f988ba18f8>\u001b[0m in \u001b[0;36m<module>\u001b[0;34m\u001b[0m\n\u001b[0;32m----> 1\u001b[0;31m \u001b[0mtfidf_weight\u001b[0m \u001b[0;34m=\u001b[0m \u001b[0mtf_idf_vectorizer\u001b[0m\u001b[0;34m(\u001b[0m\u001b[0mwiki\u001b[0m\u001b[0;34m[\u001b[0m\u001b[0;34m'lemmatized_document'\u001b[0m\u001b[0;34m]\u001b[0m\u001b[0;34m)\u001b[0m\u001b[0;34m\u001b[0m\u001b[0;34m\u001b[0m\u001b[0m\n\u001b[0m",
      "\u001b[0;32m<ipython-input-16-2d3159e6a228>\u001b[0m in \u001b[0;36mtf_idf_vectorizer\u001b[0;34m(corpus)\u001b[0m\n\u001b[1;32m     33\u001b[0m     \u001b[0mtf\u001b[0m \u001b[0;34m=\u001b[0m \u001b[0;34m[\u001b[0m\u001b[0mtf_elem\u001b[0m \u001b[0;34m*\u001b[0m \u001b[0midf\u001b[0m \u001b[0;32mfor\u001b[0m \u001b[0mtf_elem\u001b[0m \u001b[0;32min\u001b[0m \u001b[0mtf\u001b[0m\u001b[0;34m]\u001b[0m\u001b[0;34m\u001b[0m\u001b[0;34m\u001b[0m\u001b[0m\n\u001b[1;32m     34\u001b[0m \u001b[0;34m\u001b[0m\u001b[0m\n\u001b[0;32m---> 35\u001b[0;31m     \u001b[0mtf\u001b[0m \u001b[0;34m=\u001b[0m \u001b[0mnp\u001b[0m\u001b[0;34m.\u001b[0m\u001b[0mstack\u001b[0m\u001b[0;34m(\u001b[0m \u001b[0mtfidf_weight\u001b[0m\u001b[0;34m,\u001b[0m \u001b[0maxis\u001b[0m\u001b[0;34m=\u001b[0m\u001b[0;36m0\u001b[0m \u001b[0;34m)\u001b[0m\u001b[0;34m\u001b[0m\u001b[0;34m\u001b[0m\u001b[0m\n\u001b[0m\u001b[1;32m     36\u001b[0m \u001b[0;34m\u001b[0m\u001b[0m\n\u001b[1;32m     37\u001b[0m     \u001b[0;32mreturn\u001b[0m \u001b[0mtf\u001b[0m\u001b[0;34m\u001b[0m\u001b[0;34m\u001b[0m\u001b[0m\n",
      "\u001b[0;31mNameError\u001b[0m: name 'tfidf_weight' is not defined"
     ]
    }
   ],
   "source": [
    "tfidf_weight = tf_idf_vectorizer(wiki['lemmatized_document'])"
   ]
  },
  {
   "cell_type": "code",
   "execution_count": null,
   "metadata": {},
   "outputs": [],
   "source": [
    "nn_cosine = NearestNeighbors(metric='cosine')\n",
    "nn_cosine.fit(tfidf_weight)"
   ]
  },
  {
   "cell_type": "code",
   "execution_count": null,
   "metadata": {},
   "outputs": [],
   "source": [
    "facts_indexes = [563, 564, 565]"
   ]
  },
  {
   "cell_type": "code",
   "execution_count": null,
   "metadata": {},
   "outputs": [],
   "source": [
    "def get_nearest_documents(index):\n",
    "    cosine, indices = nn_cosine.kneighbors(tfidf_weight[index].reshape(1, -1), n_neighbors = 11)\n",
    "\n",
    "    neighbors_cosine = pd.DataFrame({'cosine': cosine.flatten(), 'id': indices.flatten()})\n",
    "\n",
    "    nearest_documents = (wiki.\\\n",
    "                    merge(neighbors_cosine, right_on = 'id', left_index = True).\\\n",
    "                    sort_values('cosine')[['id', 'document', 'cosine']])\n",
    "\n",
    "    return nearest_documents\n",
    "\n",
    "def print_results_for_document(index):\n",
    "    nearest_documents = get_nearest_documents(index)\n",
    "    documents = nearest_documents['document'].values\n",
    "    cosines = nearest_documents['cosine'].values\n",
    "    \n",
    "    fact = documents[0]\n",
    "    \n",
    "    printmd(\"Факт: \" + \"**\" + fact + \"**\")\n",
    "    printmd(\"Близкие документы:\")\n",
    "    \n",
    "    for doc, cosine in zip(documents[1:], cosines[1:]):\n",
    "        printmd(f\"* [{cosine:.2f}] {doc}\")"
   ]
  },
  {
   "cell_type": "code",
   "execution_count": null,
   "metadata": {},
   "outputs": [],
   "source": [
    "print_results_for_document(facts_indexes[0])"
   ]
  },
  {
   "cell_type": "code",
   "execution_count": null,
   "metadata": {},
   "outputs": [],
   "source": [
    "print_results_for_document(facts_indexes[1])"
   ]
  },
  {
   "cell_type": "code",
   "execution_count": null,
   "metadata": {},
   "outputs": [],
   "source": [
    "print_results_for_document(facts_indexes[2])"
   ]
  },
  {
   "cell_type": "code",
   "execution_count": null,
   "metadata": {},
   "outputs": [],
   "source": []
  }
 ],
 "metadata": {
  "kernelspec": {
   "display_name": "Python 3",
   "language": "python",
   "name": "python3"
  },
  "language_info": {
   "codemirror_mode": {
    "name": "ipython",
    "version": 3
   },
   "file_extension": ".py",
   "mimetype": "text/x-python",
   "name": "python",
   "nbconvert_exporter": "python",
   "pygments_lexer": "ipython3",
   "version": "3.7.6"
  }
 },
 "nbformat": 4,
 "nbformat_minor": 4
}
